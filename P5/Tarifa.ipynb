{
 "cells": [
  {
   "cell_type": "markdown",
   "metadata": {
    "id": "3rYiDeEH0q0f"
   },
   "source": [
    "# ¿Cuál es la mejor tarifa?\n",
    "\n",
    "Trabajas como analista para el operador de telecomunicaciones Megaline. La empresa ofrece a sus clientes dos tarifas de prepago, Surf y Ultimate. El departamento comercial quiere saber cuál de las tarifas genera más ingresos para poder ajustar el presupuesto de publicidad.\n",
    "\n",
    "Vas a realizar un análisis preliminar de las tarifas basado en una selección de clientes relativamente pequeña. Tendrás los datos de 500 clientes de Megaline: quiénes son los clientes, de dónde son, qué tarifa usan, así como la cantidad de llamadas que hicieron y los mensajes de texto que enviaron en 2018. Tu trabajo es analizar el comportamiento de los clientes y determinar qué tarifa de prepago genera más ingresos."
   ]
  },
  {
   "cell_type": "markdown",
   "metadata": {
    "id": "MQi4IPy70q0y"
   },
   "source": [
    "## Inicialización"
   ]
  },
  {
   "cell_type": "code",
   "execution_count": 1,
   "metadata": {
    "id": "MtYIuBxu0q0z"
   },
   "outputs": [],
   "source": [
    "# Cargar todas las librerías\n",
    "import pandas as pd\n",
    "from matplotlib import pyplot as plt\n",
    "import numpy as np\n",
    "from scipy import stats as st\n",
    "import seaborn as sns"
   ]
  },
  {
   "cell_type": "markdown",
   "metadata": {
    "id": "4ysWWC5i0q00"
   },
   "source": [
    "## Cargar datos"
   ]
  },
  {
   "cell_type": "code",
   "execution_count": 2,
   "metadata": {
    "id": "CCqPW7rS0q01"
   },
   "outputs": [],
   "source": [
    "# Carga los archivos de datos en diferentes DataFrames\n",
    "llamadas=pd.read_csv(r\"megaline_calls.csv\")\n",
    "\n",
    "internet=pd.read_csv(r\"megaline_internet.csv\")\n",
    "\n",
    "mensajes=pd.read_csv(r\"megaline_messages.csv\")\n",
    "\n",
    "planes=pd.read_csv(r\"megaline_plans.csv\")\n",
    "\n",
    "usuarios=pd.read_csv(r\"megaline_users.csv\")\n"
   ]
  },
  {
   "cell_type": "markdown",
   "metadata": {
    "id": "69qqoJ3r0q01"
   },
   "source": [
    "## Preparar los datos"
   ]
  },
  {
   "cell_type": "markdown",
   "metadata": {
    "id": "vUuZw80S0q01"
   },
   "source": [
    "Para poder dar un primer vistazo a como están constituidas cada data frame se usará info() y head(), el primero para determinar en primera instancia el tipo de datos que maneja cada columna así como si hay valores faltantes, por otro lado head() nos dara una visión sobre como se plasma la información dentro del data frame."
   ]
  },
  {
   "cell_type": "markdown",
   "metadata": {
    "id": "ohBhimvH0q01"
   },
   "source": [
    "## Tarifas"
   ]
  },
  {
   "cell_type": "code",
   "execution_count": 3,
   "metadata": {
    "id": "GptqP3Q40q02"
   },
   "outputs": [
    {
     "name": "stdout",
     "output_type": "stream",
     "text": [
      "<class 'pandas.core.frame.DataFrame'>\n",
      "RangeIndex: 2 entries, 0 to 1\n",
      "Data columns (total 8 columns):\n",
      " #   Column                 Non-Null Count  Dtype  \n",
      "---  ------                 --------------  -----  \n",
      " 0   messages_included      2 non-null      int64  \n",
      " 1   mb_per_month_included  2 non-null      int64  \n",
      " 2   minutes_included       2 non-null      int64  \n",
      " 3   usd_monthly_pay        2 non-null      int64  \n",
      " 4   usd_per_gb             2 non-null      int64  \n",
      " 5   usd_per_message        2 non-null      float64\n",
      " 6   usd_per_minute         2 non-null      float64\n",
      " 7   plan_name              2 non-null      object \n",
      "dtypes: float64(2), int64(5), object(1)\n",
      "memory usage: 260.0+ bytes\n"
     ]
    }
   ],
   "source": [
    "# Imprime la información general/resumida sobre el DataFrame de las tarifas\n",
    "planes.info(show_counts=True)"
   ]
  },
  {
   "cell_type": "code",
   "execution_count": 4,
   "metadata": {
    "id": "64xzjwL70q02"
   },
   "outputs": [
    {
     "name": "stdout",
     "output_type": "stream",
     "text": [
      "   messages_included  mb_per_month_included  minutes_included  \\\n",
      "0                 50                  15360               500   \n",
      "1               1000                  30720              3000   \n",
      "\n",
      "   usd_monthly_pay  usd_per_gb  usd_per_message  usd_per_minute plan_name  \n",
      "0               20          10             0.03            0.03      surf  \n",
      "1               70           7             0.01            0.01  ultimate  \n"
     ]
    }
   ],
   "source": [
    "# Imprime una muestra de los datos para las tarifas\n",
    "print(planes.head())"
   ]
  },
  {
   "cell_type": "markdown",
   "metadata": {
    "id": "mEc_3_hs0q02"
   },
   "source": [
    "Se puede observar que en este data frame la mayoría de los datos son de tipo numérico entre int64 y float64, salvo el nombre del plan que es de tipo objeto, en este caso el tipo de dato que maneja cada columna es correcto pues en donde se necesita números enteros para establecer un limite se tiene la cantidad adecuada según los parámetros mostrados al iniciar el proyecto, sin embargo al comparar la información que se dio previamente los valores en la columna mp_per_month_included son erronéos, para corregirlos bastaria con usar replace o simplemente igualar la variable que apunte a los datos para modificarlos. Hablando de los valores ausentes se observa que no hay ninguno del cual preocuparnos."
   ]
  },
  {
   "cell_type": "markdown",
   "metadata": {
    "id": "R3C05i1l0q03"
   },
   "source": [
    "## Corregir datos"
   ]
  },
  {
   "cell_type": "markdown",
   "metadata": {
    "id": "bIi8StZI0q03"
   },
   "source": [
    "Para poder modificar los valores erróneos dentro de la columna mb_per_month_included se utilizará replace y después se imprimirá únicamente los valores que se están modificando con el fin de comprobar su corrección"
   ]
  },
  {
   "cell_type": "code",
   "execution_count": 5,
   "metadata": {
    "id": "Y7SVmjGn0q03"
   },
   "outputs": [
    {
     "name": "stdout",
     "output_type": "stream",
     "text": [
      "0\n",
      "messages_included        0\n",
      "mb_per_month_included    0\n",
      "minutes_included         0\n",
      "usd_monthly_pay          0\n",
      "usd_per_gb               0\n",
      "usd_per_message          0\n",
      "usd_per_minute           0\n",
      "plan_name                0\n",
      "dtype: int64\n"
     ]
    }
   ],
   "source": [
    "#planes[\"mb_per_month_included\"]=planes[\"mb_per_month_included\"].replace([15360,30720],[15000,30000])\n",
    "#print(planes[\"mb_per_month_included\"])\n",
    "print(planes.duplicated().sum())#Corroborar valores duplicados\n",
    "print(planes.isna().sum())#Corroborar valores ausentes"
   ]
  },
  {
   "cell_type": "markdown",
   "metadata": {
    "id": "LJir7bml0q03"
   },
   "source": [
    "## Enriquecer los datos"
   ]
  },
  {
   "cell_type": "markdown",
   "metadata": {
    "id": "eqADpCfg0q04"
   },
   "source": [
    "Se utilizará rename con el fin de modificar el nombre de la columna usd_monthly_pay a usd_monthly_fee como se presento al inicio del proyecto. "
   ]
  },
  {
   "cell_type": "code",
   "execution_count": 6,
   "metadata": {
    "id": "gfcIEuXV0q04"
   },
   "outputs": [
    {
     "name": "stdout",
     "output_type": "stream",
     "text": [
      "Index(['messages_included', 'mb_per_month_included', 'minutes_included',\n",
      "       'usd_monthly_fee', 'usd_per_gb', 'usd_per_message', 'usd_per_minute',\n",
      "       'plan_name'],\n",
      "      dtype='object')\n"
     ]
    }
   ],
   "source": [
    "planes.rename(columns={\"usd_monthly_pay\":\"usd_monthly_fee\"},inplace=True)\n",
    "print(planes.columns)"
   ]
  },
  {
   "cell_type": "markdown",
   "metadata": {
    "id": "1n2X6WXf0q04"
   },
   "source": [
    "## Usuarios/as"
   ]
  },
  {
   "cell_type": "code",
   "execution_count": 7,
   "metadata": {
    "id": "2NgjWFqx0q05"
   },
   "outputs": [
    {
     "name": "stdout",
     "output_type": "stream",
     "text": [
      "<class 'pandas.core.frame.DataFrame'>\n",
      "RangeIndex: 500 entries, 0 to 499\n",
      "Data columns (total 8 columns):\n",
      " #   Column      Non-Null Count  Dtype \n",
      "---  ------      --------------  ----- \n",
      " 0   user_id     500 non-null    int64 \n",
      " 1   first_name  500 non-null    object\n",
      " 2   last_name   500 non-null    object\n",
      " 3   age         500 non-null    int64 \n",
      " 4   city        500 non-null    object\n",
      " 5   reg_date    500 non-null    object\n",
      " 6   plan        500 non-null    object\n",
      " 7   churn_date  34 non-null     object\n",
      "dtypes: int64(2), object(6)\n",
      "memory usage: 31.4+ KB\n"
     ]
    }
   ],
   "source": [
    "# Imprime la información general/resumida sobre el DataFrame de usuarios\n",
    "usuarios.info(show_counts=True)\n"
   ]
  },
  {
   "cell_type": "code",
   "execution_count": 8,
   "metadata": {
    "id": "1IN1L9uh0q05"
   },
   "outputs": [
    {
     "data": {
      "text/html": [
       "<div>\n",
       "<style scoped>\n",
       "    .dataframe tbody tr th:only-of-type {\n",
       "        vertical-align: middle;\n",
       "    }\n",
       "\n",
       "    .dataframe tbody tr th {\n",
       "        vertical-align: top;\n",
       "    }\n",
       "\n",
       "    .dataframe thead th {\n",
       "        text-align: right;\n",
       "    }\n",
       "</style>\n",
       "<table border=\"1\" class=\"dataframe\">\n",
       "  <thead>\n",
       "    <tr style=\"text-align: right;\">\n",
       "      <th></th>\n",
       "      <th>user_id</th>\n",
       "      <th>first_name</th>\n",
       "      <th>last_name</th>\n",
       "      <th>age</th>\n",
       "      <th>city</th>\n",
       "      <th>reg_date</th>\n",
       "      <th>plan</th>\n",
       "      <th>churn_date</th>\n",
       "    </tr>\n",
       "  </thead>\n",
       "  <tbody>\n",
       "    <tr>\n",
       "      <th>252</th>\n",
       "      <td>1252</td>\n",
       "      <td>Mitsue</td>\n",
       "      <td>York</td>\n",
       "      <td>27</td>\n",
       "      <td>Detroit-Warren-Dearborn, MI MSA</td>\n",
       "      <td>2018-06-10</td>\n",
       "      <td>surf</td>\n",
       "      <td>NaN</td>\n",
       "    </tr>\n",
       "    <tr>\n",
       "      <th>357</th>\n",
       "      <td>1357</td>\n",
       "      <td>Ria</td>\n",
       "      <td>Beach</td>\n",
       "      <td>61</td>\n",
       "      <td>Baton Rouge, LA MSA</td>\n",
       "      <td>2018-05-30</td>\n",
       "      <td>surf</td>\n",
       "      <td>NaN</td>\n",
       "    </tr>\n",
       "    <tr>\n",
       "      <th>332</th>\n",
       "      <td>1332</td>\n",
       "      <td>Lucas</td>\n",
       "      <td>Saunders</td>\n",
       "      <td>37</td>\n",
       "      <td>Atlanta-Sandy Springs-Roswell, GA MSA</td>\n",
       "      <td>2018-03-12</td>\n",
       "      <td>surf</td>\n",
       "      <td>NaN</td>\n",
       "    </tr>\n",
       "    <tr>\n",
       "      <th>279</th>\n",
       "      <td>1279</td>\n",
       "      <td>Neal</td>\n",
       "      <td>Duke</td>\n",
       "      <td>27</td>\n",
       "      <td>Baton Rouge, LA MSA</td>\n",
       "      <td>2018-02-05</td>\n",
       "      <td>ultimate</td>\n",
       "      <td>NaN</td>\n",
       "    </tr>\n",
       "    <tr>\n",
       "      <th>71</th>\n",
       "      <td>1071</td>\n",
       "      <td>Isa</td>\n",
       "      <td>Roy</td>\n",
       "      <td>29</td>\n",
       "      <td>New York-Newark-Jersey City, NY-NJ-PA MSA</td>\n",
       "      <td>2018-05-23</td>\n",
       "      <td>surf</td>\n",
       "      <td>NaN</td>\n",
       "    </tr>\n",
       "  </tbody>\n",
       "</table>\n",
       "</div>"
      ],
      "text/plain": [
       "     user_id first_name last_name  age  \\\n",
       "252     1252     Mitsue      York   27   \n",
       "357     1357        Ria     Beach   61   \n",
       "332     1332      Lucas  Saunders   37   \n",
       "279     1279       Neal      Duke   27   \n",
       "71      1071        Isa       Roy   29   \n",
       "\n",
       "                                          city    reg_date      plan  \\\n",
       "252            Detroit-Warren-Dearborn, MI MSA  2018-06-10      surf   \n",
       "357                        Baton Rouge, LA MSA  2018-05-30      surf   \n",
       "332      Atlanta-Sandy Springs-Roswell, GA MSA  2018-03-12      surf   \n",
       "279                        Baton Rouge, LA MSA  2018-02-05  ultimate   \n",
       "71   New York-Newark-Jersey City, NY-NJ-PA MSA  2018-05-23      surf   \n",
       "\n",
       "    churn_date  \n",
       "252        NaN  \n",
       "357        NaN  \n",
       "332        NaN  \n",
       "279        NaN  \n",
       "71         NaN  "
      ]
     },
     "execution_count": 8,
     "metadata": {},
     "output_type": "execute_result"
    }
   ],
   "source": [
    "# Imprime una muestra de datos para usuarios\n",
    "usuarios.sample(n=5)\n"
   ]
  },
  {
   "cell_type": "markdown",
   "metadata": {
    "id": "dCZoUq4f0q06"
   },
   "source": [
    "En este caso se ven datos ausentes pertenecientes a la columna churn_date auque es de esperarse debido a que es probable que se deba a que la tarifa aun se esta usando al momento de que se extrajeron los datos, lo apropiado sería cambiarlos ya sea a 0 o a algún string que haga referencia a lo afirmado anteriormente o incluso dejarlo tal cual esta pero considerando la situación en futuros análisis. En cuanto al tipo de datos que maneja cada una de las columnas no veo ningún problema salvo en las columnas reg_date y churn_date en las cuales pueden ser cambiadas a tipo datetime."
   ]
  },
  {
   "cell_type": "markdown",
   "metadata": {
    "id": "BX5FQh_I0q06"
   },
   "source": [
    "### Corregir los datos"
   ]
  },
  {
   "cell_type": "markdown",
   "metadata": {
    "id": "8OdKMwJv0q06"
   },
   "source": [
    "Se modifico mediante to_datetime los valores de las fechas en las columnas churn_date y reg_date, por otra parte en churn_date se ignoran los valores vacios con errors=\"coerce\"."
   ]
  },
  {
   "cell_type": "code",
   "execution_count": 9,
   "metadata": {
    "id": "yUqX-K0C0q07"
   },
   "outputs": [
    {
     "name": "stdout",
     "output_type": "stream",
     "text": [
      "0\n",
      "user_id         0\n",
      "first_name      0\n",
      "last_name       0\n",
      "age             0\n",
      "city            0\n",
      "reg_date        0\n",
      "plan            0\n",
      "churn_date    466\n",
      "dtype: int64\n",
      "<class 'pandas.core.frame.DataFrame'>\n",
      "RangeIndex: 500 entries, 0 to 499\n",
      "Data columns (total 8 columns):\n",
      " #   Column      Non-Null Count  Dtype         \n",
      "---  ------      --------------  -----         \n",
      " 0   user_id     500 non-null    int64         \n",
      " 1   first_name  500 non-null    object        \n",
      " 2   last_name   500 non-null    object        \n",
      " 3   age         500 non-null    int64         \n",
      " 4   city        500 non-null    object        \n",
      " 5   reg_date    500 non-null    datetime64[ns]\n",
      " 6   plan        500 non-null    object        \n",
      " 7   churn_date  34 non-null     object        \n",
      "dtypes: datetime64[ns](1), int64(2), object(5)\n",
      "memory usage: 31.4+ KB\n"
     ]
    }
   ],
   "source": [
    "usuarios[\"reg_date\"]=pd.to_datetime(usuarios[\"reg_date\"],format='%Y-%m-%d')\n",
    "#usuarios[\"churn_date\"]=pd.to_datetime(usuarios[\"churn_date\"],format='%Y-%m-%d',errors=\"coerce\")\n",
    "\n",
    "print(usuarios.duplicated().sum())#Corroborar valores duplicados\n",
    "print(usuarios.isna().sum())#Corroborar valores ausentes\n",
    "usuarios.info()"
   ]
  },
  {
   "cell_type": "markdown",
   "metadata": {
    "id": "ycwuARJp0q07"
   },
   "source": [
    "### Enriquecer los datos"
   ]
  },
  {
   "cell_type": "markdown",
   "metadata": {
    "id": "96NIh4CJ0q08"
   },
   "source": [
    "Se cambiaron los valores ausentes en la columna churn_date con el valor Tarifa activa para hacer referencia a que aun esta en uso, de ser necesario en el futuro se modificará para que sean de tipo datetime."
   ]
  },
  {
   "cell_type": "code",
   "execution_count": 10,
   "metadata": {
    "id": "iq0AaBS90q08"
   },
   "outputs": [
    {
     "name": "stdout",
     "output_type": "stream",
     "text": [
      "     user_id first_name  last_name  age                                 city  \\\n",
      "475     1475      Arlen     Sutton   66  Dallas-Fort Worth-Arlington, TX MSA   \n",
      "415     1415    Rosette     Mendez   56   Boston-Cambridge-Newton, MA-NH MSA   \n",
      "167     1167   Rebbecca  Nicholson   47       Denver-Aurora-Lakewood, CO MSA   \n",
      "411     1411        Man    Fleming   64                    Rochester, NY MSA   \n",
      "401     1401   Charmain     Bryant   67                     Richmond, VA MSA   \n",
      "\n",
      "      reg_date      plan     churn_date  \n",
      "475 2018-05-28  ultimate  Tarifa activa  \n",
      "415 2018-02-27      surf  Tarifa activa  \n",
      "167 2018-04-06      surf  Tarifa activa  \n",
      "411 2018-08-10      surf  Tarifa activa  \n",
      "401 2018-08-24  ultimate  Tarifa activa  \n",
      "<class 'pandas.core.frame.DataFrame'>\n",
      "RangeIndex: 500 entries, 0 to 499\n",
      "Data columns (total 8 columns):\n",
      " #   Column      Non-Null Count  Dtype         \n",
      "---  ------      --------------  -----         \n",
      " 0   user_id     500 non-null    int64         \n",
      " 1   first_name  500 non-null    object        \n",
      " 2   last_name   500 non-null    object        \n",
      " 3   age         500 non-null    int64         \n",
      " 4   city        500 non-null    object        \n",
      " 5   reg_date    500 non-null    datetime64[ns]\n",
      " 6   plan        500 non-null    object        \n",
      " 7   churn_date  500 non-null    object        \n",
      "dtypes: datetime64[ns](1), int64(2), object(5)\n",
      "memory usage: 31.4+ KB\n"
     ]
    }
   ],
   "source": [
    "usuarios[\"churn_date\"]=usuarios[\"churn_date\"].fillna(\"Tarifa activa\")\n",
    "print(usuarios.sample(5))\n",
    "usuarios.info()"
   ]
  },
  {
   "cell_type": "markdown",
   "metadata": {
    "id": "o7MeKCid0q08"
   },
   "source": [
    "## Llamadas"
   ]
  },
  {
   "cell_type": "code",
   "execution_count": 11,
   "metadata": {
    "id": "6dDlnoDm0q08"
   },
   "outputs": [
    {
     "name": "stdout",
     "output_type": "stream",
     "text": [
      "<class 'pandas.core.frame.DataFrame'>\n",
      "RangeIndex: 137735 entries, 0 to 137734\n",
      "Data columns (total 4 columns):\n",
      " #   Column     Non-Null Count   Dtype  \n",
      "---  ------     --------------   -----  \n",
      " 0   id         137735 non-null  object \n",
      " 1   user_id    137735 non-null  int64  \n",
      " 2   call_date  137735 non-null  object \n",
      " 3   duration   137735 non-null  float64\n",
      "dtypes: float64(1), int64(1), object(2)\n",
      "memory usage: 4.2+ MB\n"
     ]
    }
   ],
   "source": [
    "# Imprime la información general/resumida sobre el DataFrame de las llamadas\n",
    "llamadas.info(show_counts=True)"
   ]
  },
  {
   "cell_type": "code",
   "execution_count": 12,
   "metadata": {
    "id": "kuh1vlNB0q09"
   },
   "outputs": [
    {
     "name": "stdout",
     "output_type": "stream",
     "text": [
      "              id  user_id   call_date  duration\n",
      "117517  1411_117     1411  2018-08-26      9.15\n",
      "39956   1147_771     1147  2018-10-12      5.24\n",
      "134170  1488_305     1488  2018-10-19     10.63\n",
      "137733  1499_202     1499  2018-10-10      0.37\n",
      "9934     1045_53     1045  2018-11-23     11.66\n"
     ]
    }
   ],
   "source": [
    "# Imprime una muestra de datos para las llamadas\n",
    "l=llamadas.sample(n=5)\n",
    "print(l)"
   ]
  },
  {
   "cell_type": "markdown",
   "metadata": {
    "id": "DOAxYJSx0q09"
   },
   "source": [
    "Se puede observar en primera instancia que no parece haber valores ausentes dentro de este data frame, además que los tipos de datos que presentan en cada columna son adecuados para realizar operaciones necesarias si se lo requiere, el único que podría llegar a ser modificado es la columna call date a un tipo de dato datetime. Por otra parte aun falta corroborar que no hay valores duplicados y en caso de haberlos simplemente bastaría con eliminarlos con dropna."
   ]
  },
  {
   "cell_type": "markdown",
   "metadata": {
    "id": "S7hzxmbX0q0-"
   },
   "source": [
    "### Corregir los datos"
   ]
  },
  {
   "cell_type": "markdown",
   "metadata": {
    "id": "YxWyAjD20q0-"
   },
   "source": [
    "Se comprueba la existencia de valores nulos o ausentes que se pasaron por alto y se comprueba la existencia de datos duplicados, por otra parte se modifica el nombre de id a call_id con el fin de que describa mejor que valores contiene."
   ]
  },
  {
   "cell_type": "code",
   "execution_count": 13,
   "metadata": {
    "id": "S2r8xA4f0q0-"
   },
   "outputs": [
    {
     "name": "stdout",
     "output_type": "stream",
     "text": [
      "0\n",
      "call_id      0\n",
      "user_id      0\n",
      "call_date    0\n",
      "duration     0\n",
      "dtype: int64\n",
      "0     8.52\n",
      "1    13.66\n",
      "2    14.48\n",
      "3     5.76\n",
      "4     4.22\n",
      "5     2.20\n",
      "6     5.75\n",
      "7    14.18\n",
      "8     5.77\n",
      "9     4.40\n",
      "Name: duration, dtype: float64\n",
      "0     9.0\n",
      "1    14.0\n",
      "2    15.0\n",
      "3     6.0\n",
      "4     5.0\n",
      "5     3.0\n",
      "6     6.0\n",
      "7    15.0\n",
      "8     6.0\n",
      "9     5.0\n",
      "Name: duration, dtype: float64\n"
     ]
    }
   ],
   "source": [
    "llamadas.rename(columns={\"id\":\"call_id\"},inplace=True)\n",
    "print(llamadas.duplicated().sum())#Corroborar valores duplicados\n",
    "print(llamadas.isna().sum())#Corroborar valores ausentes\n",
    "print(llamadas[\"duration\"].head(10))#Comprobando valores sin redondear\n",
    "llamadas[\"duration\"]=np.ceil(llamadas[\"duration\"])#función ceil para redondear\n",
    "print(llamadas[\"duration\"].head(10))#comprobando los mismos valores para asegurar el cambio"
   ]
  },
  {
   "cell_type": "markdown",
   "metadata": {
    "id": "KrMgTrlG0q0_"
   },
   "source": [
    "### Enriquecer los datos"
   ]
  },
  {
   "cell_type": "markdown",
   "metadata": {
    "id": "a9MbmEvE0q0_"
   },
   "source": [
    "Para la columna call_date se modificara el tipo de dato que maneja de tipo objeto a datetime."
   ]
  },
  {
   "cell_type": "code",
   "execution_count": 14,
   "metadata": {
    "id": "iZ1avpA_0q0_"
   },
   "outputs": [
    {
     "name": "stdout",
     "output_type": "stream",
     "text": [
      "<class 'pandas.core.frame.DataFrame'>\n",
      "RangeIndex: 137735 entries, 0 to 137734\n",
      "Data columns (total 4 columns):\n",
      " #   Column     Non-Null Count   Dtype         \n",
      "---  ------     --------------   -----         \n",
      " 0   call_id    137735 non-null  object        \n",
      " 1   user_id    137735 non-null  int64         \n",
      " 2   call_date  137735 non-null  datetime64[ns]\n",
      " 3   duration   137735 non-null  float64       \n",
      "dtypes: datetime64[ns](1), float64(1), int64(1), object(1)\n",
      "memory usage: 4.2+ MB\n"
     ]
    }
   ],
   "source": [
    "llamadas[\"call_date\"]=pd.to_datetime(llamadas[\"call_date\"],format='%Y-%m-%d')\n",
    "llamadas.info(show_counts=True)"
   ]
  },
  {
   "cell_type": "markdown",
   "metadata": {
    "id": "mOUZSi180q0_"
   },
   "source": [
    "## Mensajes"
   ]
  },
  {
   "cell_type": "code",
   "execution_count": 15,
   "metadata": {
    "id": "R-bYJpdV0q1A"
   },
   "outputs": [
    {
     "name": "stdout",
     "output_type": "stream",
     "text": [
      "<class 'pandas.core.frame.DataFrame'>\n",
      "RangeIndex: 76051 entries, 0 to 76050\n",
      "Data columns (total 3 columns):\n",
      " #   Column        Non-Null Count  Dtype \n",
      "---  ------        --------------  ----- \n",
      " 0   id            76051 non-null  object\n",
      " 1   user_id       76051 non-null  int64 \n",
      " 2   message_date  76051 non-null  object\n",
      "dtypes: int64(1), object(2)\n",
      "memory usage: 1.7+ MB\n"
     ]
    }
   ],
   "source": [
    "# Imprime la información general/resumida sobre el DataFrame de los mensajes\n",
    "mensajes.info()"
   ]
  },
  {
   "cell_type": "code",
   "execution_count": 16,
   "metadata": {
    "id": "mCEl2iGE0q1A"
   },
   "outputs": [
    {
     "name": "stdout",
     "output_type": "stream",
     "text": [
      "             id  user_id message_date\n",
      "21519  1132_899     1132   2018-09-15\n",
      "20973  1132_126     1132   2018-05-31\n",
      "38810  1254_467     1254   2018-12-14\n",
      "6757    1057_81     1057   2018-12-23\n",
      "22970  1137_505     1137   2018-11-01\n"
     ]
    }
   ],
   "source": [
    "# Imprime una muestra de datos para los mensajes\n",
    "print(mensajes.sample(5))"
   ]
  },
  {
   "cell_type": "markdown",
   "metadata": {
    "id": "04xDj7KH0q1A"
   },
   "source": [
    "Se puede onservar que este data frame no presenta valores ausentes y el tipo de datos que maneja cada columna es correcto, puede llegar a modificarse el nombre de la columna id a call_id para que haga referencia a que es el número identificador de la llamada, la columna message_date puede ser cambiada de tipo object a datetime y finalmente comprobar la existencia de duplicados. "
   ]
  },
  {
   "cell_type": "markdown",
   "metadata": {
    "id": "Sprfak900q1B"
   },
   "source": [
    "### Corregir los datos"
   ]
  },
  {
   "cell_type": "markdown",
   "metadata": {
    "id": "eGw7d9j10q1B"
   },
   "source": [
    "Se comprueba la existencia de valores ausentes, duplicados y se cambia el nombre de la columna id a message_id con el fin de que sea más descriptivo los valores que contiene."
   ]
  },
  {
   "cell_type": "code",
   "execution_count": 17,
   "metadata": {
    "id": "vsllvkoa0q1B"
   },
   "outputs": [
    {
     "name": "stdout",
     "output_type": "stream",
     "text": [
      "message_id      0\n",
      "user_id         0\n",
      "message_date    0\n",
      "dtype: int64\n",
      "0\n"
     ]
    }
   ],
   "source": [
    "mensajes.rename(columns={\"id\":\"message_id\"},inplace=True)\n",
    "print(mensajes.isna().sum())\n",
    "print(mensajes.duplicated().sum())"
   ]
  },
  {
   "cell_type": "markdown",
   "metadata": {
    "id": "HvLid7iD0q1B"
   },
   "source": [
    "### Enriquecer los datos"
   ]
  },
  {
   "cell_type": "markdown",
   "metadata": {
    "id": "8nhPFKIe0q1C"
   },
   "source": [
    "Se cambia el tipo de dato de la columna call_date a datetime para que se tenga un formato establecido."
   ]
  },
  {
   "cell_type": "code",
   "execution_count": 18,
   "metadata": {
    "id": "zYEXZac10q1C"
   },
   "outputs": [
    {
     "name": "stdout",
     "output_type": "stream",
     "text": [
      "<class 'pandas.core.frame.DataFrame'>\n",
      "RangeIndex: 76051 entries, 0 to 76050\n",
      "Data columns (total 3 columns):\n",
      " #   Column        Non-Null Count  Dtype         \n",
      "---  ------        --------------  -----         \n",
      " 0   message_id    76051 non-null  object        \n",
      " 1   user_id       76051 non-null  int64         \n",
      " 2   message_date  76051 non-null  datetime64[ns]\n",
      "dtypes: datetime64[ns](1), int64(1), object(1)\n",
      "memory usage: 1.7+ MB\n"
     ]
    }
   ],
   "source": [
    "#1.9.2\n",
    "mensajes[\"message_date\"]=pd.to_datetime(mensajes[\"message_date\"],format='%Y-%m-%d')\n",
    "mensajes.info()"
   ]
  },
  {
   "cell_type": "markdown",
   "metadata": {
    "id": "bStkaxn40q1C"
   },
   "source": [
    "## Internet"
   ]
  },
  {
   "cell_type": "code",
   "execution_count": 19,
   "metadata": {
    "id": "e-Uz5qyn0q1C"
   },
   "outputs": [
    {
     "name": "stdout",
     "output_type": "stream",
     "text": [
      "<class 'pandas.core.frame.DataFrame'>\n",
      "RangeIndex: 104825 entries, 0 to 104824\n",
      "Data columns (total 4 columns):\n",
      " #   Column        Non-Null Count   Dtype  \n",
      "---  ------        --------------   -----  \n",
      " 0   id            104825 non-null  object \n",
      " 1   user_id       104825 non-null  int64  \n",
      " 2   session_date  104825 non-null  object \n",
      " 3   mb_used       104825 non-null  float64\n",
      "dtypes: float64(1), int64(1), object(2)\n",
      "memory usage: 3.2+ MB\n"
     ]
    }
   ],
   "source": [
    "# Imprime la información general/resumida sobre el DataFrame de internet\n",
    "internet.info()"
   ]
  },
  {
   "cell_type": "code",
   "execution_count": 20,
   "metadata": {
    "id": "9r3x_XLw0q1C"
   },
   "outputs": [
    {
     "name": "stdout",
     "output_type": "stream",
     "text": [
      "             id  user_id session_date  mb_used\n",
      "17457   1079_62     1079   2018-09-25   529.15\n",
      "68626  1320_290     1320   2018-06-25   573.86\n",
      "69652   1325_54     1325   2018-12-17     0.00\n",
      "12253  1059_364     1059   2018-11-17   448.01\n",
      "84946  1397_189     1397   2018-09-12   377.90\n"
     ]
    }
   ],
   "source": [
    "# Imprime una muestra de datos para el tráfico de internet\n",
    "print(internet.sample(5))"
   ]
  },
  {
   "cell_type": "markdown",
   "metadata": {
    "id": "EzOG5ik30q1D"
   },
   "source": [
    "Se observa que los tipos de datos que se maneja en cada columna son adecuados excepto en la columna session_date la cual se modificara de object a datetime, no se encontraron valores ausentes y falta corroborar si existen duplicados.\n",
    "El nombre de la columna id se modificará de id a session_id para que describa mejor los valores que contiene."
   ]
  },
  {
   "cell_type": "markdown",
   "metadata": {
    "id": "yA0tkPFg0q1D"
   },
   "source": [
    "### Corregir los datos"
   ]
  },
  {
   "cell_type": "markdown",
   "metadata": {
    "id": "zlZMuIEK0q1D"
   },
   "source": [
    "Se modificara el nombre de la columna id a session_id, se buscará la existencia de valoes ausentes y duplicados, en caso de haberlos elimonarlos."
   ]
  },
  {
   "cell_type": "code",
   "execution_count": 21,
   "metadata": {
    "id": "zVeanzdd0q1E"
   },
   "outputs": [
    {
     "name": "stdout",
     "output_type": "stream",
     "text": [
      "session_id      0\n",
      "user_id         0\n",
      "session_date    0\n",
      "mb_used         0\n",
      "dtype: int64\n",
      "0\n"
     ]
    }
   ],
   "source": [
    "internet.rename(columns={\"id\":\"session_id\"},inplace=True)\n",
    "print(internet.isna().sum())\n",
    "print(internet.duplicated().sum())"
   ]
  },
  {
   "cell_type": "markdown",
   "metadata": {
    "id": "e8_mLF4a0q1E"
   },
   "source": [
    "### Enriquecer los datos"
   ]
  },
  {
   "cell_type": "markdown",
   "metadata": {
    "id": "xhNdn2tE0q1E"
   },
   "source": [
    "Se cambia el tipo de dato de la columna session_date a datetime "
   ]
  },
  {
   "cell_type": "code",
   "execution_count": 22,
   "metadata": {
    "id": "ESiYPIEK0q1E"
   },
   "outputs": [
    {
     "name": "stdout",
     "output_type": "stream",
     "text": [
      "<class 'pandas.core.frame.DataFrame'>\n",
      "RangeIndex: 104825 entries, 0 to 104824\n",
      "Data columns (total 4 columns):\n",
      " #   Column        Non-Null Count   Dtype         \n",
      "---  ------        --------------   -----         \n",
      " 0   session_id    104825 non-null  object        \n",
      " 1   user_id       104825 non-null  int64         \n",
      " 2   session_date  104825 non-null  datetime64[ns]\n",
      " 3   mb_used       104825 non-null  float64       \n",
      "dtypes: datetime64[ns](1), float64(1), int64(1), object(1)\n",
      "memory usage: 3.2+ MB\n"
     ]
    }
   ],
   "source": [
    "internet[\"session_date\"]=pd.to_datetime(internet[\"session_date\"],format='%Y-%m-%d')\n",
    "internet.info()"
   ]
  },
  {
   "cell_type": "markdown",
   "metadata": {
    "id": "3UA2cqIW0q1E"
   },
   "source": [
    "## Estudiar las condiciones de las tarifas"
   ]
  },
  {
   "cell_type": "markdown",
   "metadata": {
    "id": "T86Sqltq0q1F"
   },
   "source": [
    "Se imprime información general del data frame de las tarifa justo con los datos que contiene"
   ]
  },
  {
   "cell_type": "code",
   "execution_count": 23,
   "metadata": {
    "id": "i409op8p0q1F"
   },
   "outputs": [
    {
     "name": "stdout",
     "output_type": "stream",
     "text": [
      "<class 'pandas.core.frame.DataFrame'>\n",
      "RangeIndex: 2 entries, 0 to 1\n",
      "Data columns (total 8 columns):\n",
      " #   Column                 Non-Null Count  Dtype  \n",
      "---  ------                 --------------  -----  \n",
      " 0   messages_included      2 non-null      int64  \n",
      " 1   mb_per_month_included  2 non-null      int64  \n",
      " 2   minutes_included       2 non-null      int64  \n",
      " 3   usd_monthly_fee        2 non-null      int64  \n",
      " 4   usd_per_gb             2 non-null      int64  \n",
      " 5   usd_per_message        2 non-null      float64\n",
      " 6   usd_per_minute         2 non-null      float64\n",
      " 7   plan_name              2 non-null      object \n",
      "dtypes: float64(2), int64(5), object(1)\n",
      "memory usage: 260.0+ bytes\n",
      "   messages_included  mb_per_month_included  minutes_included  \\\n",
      "0                 50                  15360               500   \n",
      "1               1000                  30720              3000   \n",
      "\n",
      "   usd_monthly_fee  usd_per_gb  usd_per_message  usd_per_minute plan_name  \n",
      "0               20          10             0.03            0.03      surf  \n",
      "1               70           7             0.01            0.01  ultimate  \n"
     ]
    }
   ],
   "source": [
    "# Imprime las condiciones de la tarifa y asegúrate de que te quedan claras\n",
    "planes.info()\n",
    "print(planes)"
   ]
  },
  {
   "cell_type": "markdown",
   "metadata": {
    "id": "hMR1tP5d0q1F"
   },
   "source": [
    "## Agregar datos por usuario\n",
    "Se crearan grupos tomando como referencia la columna de periodo y user_id con el fin de obtener mensualmente las cantidades correspondientes a las columnas de interés."
   ]
  },
  {
   "cell_type": "code",
   "execution_count": 24,
   "metadata": {
    "id": "A332cedB0q1G"
   },
   "outputs": [],
   "source": [
    "# Calcula el número de llamadas hechas por cada usuario al mes. Guarda el resultado.\n",
    "llamadas[\"periodo\"]=llamadas[\"call_date\"].dt.to_period(\"M\")\n",
    "df1=llamadas.groupby([\"user_id\",\"periodo\"])[\"call_id\"].size().reset_index(name=\"Month_call\")\n",
    "#print(df1)"
   ]
  },
  {
   "cell_type": "code",
   "execution_count": 25,
   "metadata": {
    "id": "aw2cmuql0q1G"
   },
   "outputs": [],
   "source": [
    "# Calcula la cantidad de minutos usados por cada usuario al mes. Guarda el resultado.\n",
    "df2=llamadas.groupby([\"user_id\",\"periodo\"])[\"duration\"].sum().reset_index(name=\"Month_duration\")\n",
    "#print(df2)"
   ]
  },
  {
   "cell_type": "code",
   "execution_count": 26,
   "metadata": {
    "id": "CcQvNHn60q1G"
   },
   "outputs": [],
   "source": [
    "# Calcula el número de mensajes enviados por cada usuario al mes. Guarda el resultado.\n",
    "mensajes[\"periodo\"]=mensajes[\"message_date\"].dt.to_period(\"M\")\n",
    "df3=mensajes.groupby([\"user_id\",\"periodo\"])[\"message_id\"].size().reset_index(name=\"Month_message\")\n",
    "#print(df3)"
   ]
  },
  {
   "cell_type": "code",
   "execution_count": 27,
   "metadata": {
    "id": "H1AqN2eG0q1H"
   },
   "outputs": [],
   "source": [
    "# Calcula el volumen del tráfico de Internet usado por cada usuario al mes. Guarda el resultado.\n",
    "internet[\"periodo\"]=internet[\"session_date\"].dt.to_period(\"M\")\n",
    "df4=internet.groupby([\"user_id\",\"periodo\"])[\"mb_used\"].sum().reset_index(name=\"Month_GB\")\n",
    "df4[\"Month_GB\"]=np.ceil(df4[\"Month_GB\"]/1024) #Se realiza redondeo a la columna Month_mb que se divide entre 1024 para pasar\n",
    "#de mb a gb\n",
    "#print(df4)\n"
   ]
  },
  {
   "cell_type": "markdown",
   "metadata": {
    "id": "VDfYXnj80q1H"
   },
   "source": [
    "Se juntan los data frames obtenidos previamente en uno mayor."
   ]
  },
  {
   "cell_type": "code",
   "execution_count": 28,
   "metadata": {
    "id": "FW99ykyf0q1H"
   },
   "outputs": [
    {
     "name": "stdout",
     "output_type": "stream",
     "text": [
      "user_id           0\n",
      "periodo           0\n",
      "Month_call        0\n",
      "Month_duration    0\n",
      "Month_message     0\n",
      "Month_GB          0\n",
      "dtype: int64\n",
      "0\n"
     ]
    }
   ],
   "source": [
    "# Fusiona los datos de llamadas, minutos, mensajes e Internet con base en user_id y month\n",
    "lista=[df2,df3,df4]\n",
    "df_all=df1\n",
    "for n in lista:\n",
    "    df_all=pd.merge(df_all,n,on=[\"user_id\",\"periodo\"],how=\"outer\")\n",
    "\n",
    "df_all=df_all.fillna(0)\n",
    "print(df_all.isna().sum())\n",
    "print(df_all.duplicated().sum())"
   ]
  },
  {
   "cell_type": "code",
   "execution_count": 29,
   "metadata": {
    "id": "0dNOXHag0q1H"
   },
   "outputs": [
    {
     "name": "stdout",
     "output_type": "stream",
     "text": [
      "      user_id periodo  Month_call  Month_duration  Month_message  Month_GB  \\\n",
      "86       1025     NaT         NaN             NaN            NaN       NaN   \n",
      "612      1129     NaT         NaN             NaN            NaN       NaN   \n",
      "682      1143     NaT         NaN             NaN            NaN       NaN   \n",
      "1285     1269     NaT         NaN             NaN            NaN       NaN   \n",
      "1297     1275     NaT         NaN             NaN            NaN       NaN   \n",
      "1418     1307     NaT         NaN             NaN            NaN       NaN   \n",
      "1466     1319     NaT         NaN             NaN            NaN       NaN   \n",
      "1762     1378     NaT         NaN             NaN            NaN       NaN   \n",
      "2139     1463     NaT         NaN             NaN            NaN       NaN   \n",
      "2189     1473     NaT         NaN             NaN            NaN       NaN   \n",
      "\n",
      "      first_name  last_name  age                                       city  \\\n",
      "86          Jess  Wilkinson   64      Atlanta-Sandy Springs-Roswell, GA MSA   \n",
      "612        Marin     Bolton   70                        Baton Rouge, LA MSA   \n",
      "682       Lorina    Stevens   69                   Cincinnati, OH-KY-IN MSA   \n",
      "1285      Irving   Thompson   39        Dallas-Fort Worth-Arlington, TX MSA   \n",
      "1297       Elvie  Velazquez   33  New York-Newark-Jersey City, NY-NJ-PA MSA   \n",
      "1418  Kristopher       Lang   28         Boston-Cambridge-Newton, MA-NH MSA   \n",
      "1466      Eliseo     Carson   21                   Colorado Springs, CO MSA   \n",
      "1762    Mckinley    Clayton   22             Denver-Aurora-Lakewood, CO MSA   \n",
      "2139     Dinorah    Simmons   30      Atlanta-Sandy Springs-Roswell, GA MSA   \n",
      "2189        Kirk      Velez   61     Louisville/Jefferson County, KY-IN MSA   \n",
      "\n",
      "       reg_date plan_name     churn_date  messages_included  \\\n",
      "86   2018-10-28  ultimate  Tarifa activa               1000   \n",
      "612  2018-11-10      surf     2018-12-27                 50   \n",
      "682  2018-10-26      surf  Tarifa activa                 50   \n",
      "1285 2018-09-13  ultimate     2018-12-15               1000   \n",
      "1297 2018-11-29  ultimate  Tarifa activa               1000   \n",
      "1418 2018-12-31      surf  Tarifa activa                 50   \n",
      "1466 2018-06-17      surf  Tarifa activa                 50   \n",
      "1762 2018-12-17      surf  Tarifa activa                 50   \n",
      "2139 2018-11-27  ultimate  Tarifa activa               1000   \n",
      "2189 2018-12-31      surf  Tarifa activa                 50   \n",
      "\n",
      "      mb_per_month_included  minutes_included  usd_monthly_fee  usd_per_gb  \\\n",
      "86                    30720              3000               70           7   \n",
      "612                   15360               500               20          10   \n",
      "682                   15360               500               20          10   \n",
      "1285                  30720              3000               70           7   \n",
      "1297                  30720              3000               70           7   \n",
      "1418                  15360               500               20          10   \n",
      "1466                  15360               500               20          10   \n",
      "1762                  15360               500               20          10   \n",
      "2139                  30720              3000               70           7   \n",
      "2189                  15360               500               20          10   \n",
      "\n",
      "      usd_per_message  usd_per_minute  \n",
      "86               0.01            0.01  \n",
      "612              0.03            0.03  \n",
      "682              0.03            0.03  \n",
      "1285             0.01            0.01  \n",
      "1297             0.01            0.01  \n",
      "1418             0.03            0.03  \n",
      "1466             0.03            0.03  \n",
      "1762             0.03            0.03  \n",
      "2139             0.01            0.01  \n",
      "2189             0.03            0.03  \n",
      "user_id                   0\n",
      "periodo                  10\n",
      "Month_call                0\n",
      "Month_duration            0\n",
      "Month_message             0\n",
      "Month_GB                  0\n",
      "first_name                0\n",
      "last_name                 0\n",
      "age                       0\n",
      "city                      0\n",
      "reg_date                  0\n",
      "plan_name                 0\n",
      "churn_date                0\n",
      "messages_included         0\n",
      "mb_per_month_included     0\n",
      "minutes_included          0\n",
      "usd_monthly_fee           0\n",
      "usd_per_gb                0\n",
      "usd_per_message           0\n",
      "usd_per_minute            0\n",
      "dtype: int64\n"
     ]
    },
    {
     "name": "stderr",
     "output_type": "stream",
     "text": [
      "C:\\Users\\hadgu\\AppData\\Local\\Temp\\ipykernel_12376\\418788966.py:15: FutureWarning: A value is trying to be set on a copy of a DataFrame or Series through chained assignment using an inplace method.\n",
      "The behavior will change in pandas 3.0. This inplace method will never work because the intermediate object on which we are setting values always behaves as a copy.\n",
      "\n",
      "For example, when doing 'df[col].method(value, inplace=True)', try using 'df.method({col: value}, inplace=True)' or df[col] = df[col].method(value) instead, to perform the operation inplace on the original object.\n",
      "\n",
      "\n",
      "  df_allT[d].fillna(0,inplace=True)\n"
     ]
    }
   ],
   "source": [
    "# Añade la información de la tarifa\n",
    "\n",
    "usuarios.rename(columns={\"plan\":\"plan_name\"},inplace=True)\n",
    "df5=usuarios.merge(planes,on=\"plan_name\",how=\"outer\")\n",
    "#print(df5)\n",
    "\n",
    "df_allT=pd.merge(df_all,df5,on=\"user_id\",how=\"outer\")\n",
    "\n",
    "#print(df_allT.isna().sum())\n",
    "#print(df_allT.duplicated().sum())\n",
    "print(df_allT[df_allT.isna().any(axis=1)])\n",
    "\n",
    "list2=[\"Month_call\", \"Month_duration\", \"Month_message\" ,\"Month_GB\"]\n",
    "for d in list2:\n",
    "    df_allT[d].fillna(0,inplace=True)\n",
    "    \n",
    "print(df_allT.isna().sum())\n",
    "#Se va a dejar el periodo con valores nulos, la razón por la que aparecieron valores nulos dentro de este dataframe se debe a que \n",
    "#los usuarios que no se encuentran en el dataframe df_all no tienen registro alguno o exsitencia dentro del mismo y al agregar\n",
    "#el data frame con todos los usuarios registrados se generan zonas vacias, por lo que se sustituiran con cero dado que no existe \n",
    "#registro o actividad de esos usuarios en los data frame llamadas,internet y mensajes. "
   ]
  },
  {
   "cell_type": "markdown",
   "metadata": {
    "id": "1IwGo4wg0q1I"
   },
   "source": [
    "Se creará una nueva columna que refleje la suma de los ingresos en general de las distintas secciones de interés, en este caso la columna sera total y se sumara con el valor del usuario al excederse del plan que tiene establecido."
   ]
  },
  {
   "cell_type": "code",
   "execution_count": 30,
   "metadata": {
    "id": "5FGCf_c60q1I"
   },
   "outputs": [
    {
     "name": "stdout",
     "output_type": "stream",
     "text": [
      "     user_id   total\n",
      "0       1000   70.00\n",
      "1       1001  250.09\n",
      "2       1002  100.00\n",
      "3       1003  158.12\n",
      "4       1004  610.00\n",
      "..       ...     ...\n",
      "495     1495  473.30\n",
      "496     1496  140.00\n",
      "497     1497   70.00\n",
      "498     1498  850.00\n",
      "499     1499  220.00\n",
      "\n",
      "[500 rows x 2 columns]\n"
     ]
    }
   ],
   "source": [
    "# Calcula el ingreso mensual para cada usuario\n",
    "def exceso(row1,row2):\n",
    "    return max(0,row1-row2)#Devuelve el valor maximo entre dos argumentos si es negativo devuelve 0 si es positivo devueve el número \n",
    "                           #obtenido\n",
    "df_allT[\"mb_per_month_included\"]=df_allT[\"mb_per_month_included\"]/1024#Me percate que ahora que vengo con  GB \n",
    "#Esta columna necesariamente tiene que ser GB para realizar la operación.\n",
    "df_allT[\"Exceso_minutos\"]= df_allT.apply(lambda row: exceso(row[\"Month_duration\"],row[\"minutes_included\"]),axis=1)\n",
    "df_allT[\"Exceso_mensajes\"]=df_allT.apply(lambda row: exceso(row[\"Month_message\"],row[\"messages_included\"]),axis=1)\n",
    "df_allT[\"Exceso_GB\"]=df_allT.apply(lambda row: exceso(row[\"Month_GB\"],row[\"mb_per_month_included\"]),axis=1)\n",
    "\n",
    "df_allT[\"Exceso_minutos\"]= (df_allT[\"Exceso_minutos\"])*df_allT[\"usd_per_minute\"]\n",
    "df_allT[\"Exceso_mensajes\"]= (df_allT[\"Exceso_mensajes\"])*df_allT[\"usd_per_message\"]\n",
    "df_allT[\"Exceso_GB\"]= (df_allT[\"Exceso_GB\"])*df_allT[\"usd_per_gb\"]\n",
    "\n",
    "#print(df_allT.sample(5))\n",
    "df_allT[\"total\"]=df_allT[\"usd_monthly_fee\"]+df_allT[\"Exceso_minutos\"]+df_allT[\"Exceso_mensajes\"]+df_allT[\"Exceso_GB\"]\n",
    "#print(df_allT.sample(5))\n",
    "agrupacion_por_usuario_2=df_allT.groupby(\"user_id\")[\"total\"].sum().reset_index()\n",
    "print(agrupacion_por_usuario_2)\n"
   ]
  },
  {
   "cell_type": "markdown",
   "metadata": {
    "id": "-jtyHzJb0q1I"
   },
   "source": [
    "## Estudia el comportamiento de usuario"
   ]
  },
  {
   "cell_type": "markdown",
   "metadata": {
    "id": "AxU3Y0N70q1J"
   },
   "source": [
    "Se calcularán las estadísticas descriptivas necesarias con el fin de dar un panorama general de los datos y como es su comportamiento dependiendo de cada plan de manera mensual y la frecuencia de cierto sector a lo largo del año."
   ]
  },
  {
   "cell_type": "markdown",
   "metadata": {
    "id": "vtW4CJEe0q1J"
   },
   "source": [
    "### Llamadas"
   ]
  },
  {
   "cell_type": "code",
   "execution_count": 31,
   "metadata": {
    "id": "Jf5v5--k0q1J"
   },
   "outputs": [
    {
     "data": {
      "image/png": "[encoded data removed]",
      "text/plain": [
       "<Figure size 1000x600 with 1 Axes>"
      ]
     },
     "metadata": {},
     "output_type": "display_data"
    }
   ],
   "source": [
    "def Nombre_meses(df,columna):\n",
    "    df[columna]=df[columna].dt.strftime(\"%B\")\n",
    "    return df\n",
    "\n",
    "def Grafica_bar(df,columna):\n",
    "    plt.figure(figsize=(10,6))\n",
    "    for plan in df['plan_name'].unique():\n",
    "        df_plan = df[df['plan_name'] == plan]\n",
    "        if plan==\"surf\":\n",
    "            plt.bar(df_plan['periodo'], df_plan[columna], label=plan,alpha=1)\n",
    "        else:\n",
    "            plt.bar(df_plan['periodo'], df_plan[columna], label=plan,alpha=0.5)\n",
    "    return plt.gcf()\n",
    "\n",
    "def Grafica_hist(df,columna):\n",
    "    plt.figure(figsize=(10,6))\n",
    "    plt.hist(df[columna], bins=10, alpha=0.5, label='Todos los planes')\n",
    "    for plan in df['plan_name'].unique():\n",
    "        df_plan = df[df['plan_name'] == plan]\n",
    "        if plan==\"surf\":\n",
    "            plt.hist(df_plan[columna], label=plan,alpha=0.6,bins=10)\n",
    "        else:\n",
    "            plt.hist(df_plan[columna], label=plan,alpha=0.8,bins=10)\n",
    "    return plt.gcf()\n",
    "\n",
    "def Var_Mean(df,columna):\n",
    "    surf=df[df[\"plan_name\"]==\"surf\"]\n",
    "    ultimate=df[df[\"plan_name\"]==\"ultimate\"]\n",
    "    var=df[columna].var()\n",
    "    mean=df[columna].mean()\n",
    "    var_s=surf[columna].var()\n",
    "    var_u=ultimate[columna].var()\n",
    "    mean_s=surf[columna].mean()\n",
    "    mean_u=ultimate[columna].mean()\n",
    "    mediana=df[columna].median()\n",
    "    \n",
    "    return print(f\"La varianza mensual es de {var} y la media es de {mean}\\n La varianza mensual solo con plan ultimate es de {var_u} y la media es de {mean_u}\\n La varianza mensual solo con plan surf es de {var_s} y la media es de {mean_s}\\n La mediana es de {mediana}\")\n",
    "\n",
    "def caja(df,columna):\n",
    "    sns.boxplot(df[columna])\n",
    "    return plt.gcf()\n",
    "\n",
    "#Aqui empieza 1.13.1\n",
    "# Compara la duración promedio de llamadas por cada plan y por cada mes. Traza un gráfico de barras para visualizarla.\n",
    "agr_1=df_allT.groupby([\"periodo\",\"plan_name\"])[\"Month_call\"].mean().reset_index()\n",
    "agr_1=Nombre_meses(agr_1,\"periodo\")\n",
    "\n",
    "Grafica_bar(agr_1,\"Month_call\")\n",
    "plt.xlabel('Periodo')\n",
    "plt.ylabel('Llamadas')\n",
    "plt.title('Llamadas promedio en un año')\n",
    "plt.xticks(rotation=45)\n",
    "plt.legend()\n",
    "plt.show()    \n"
   ]
  },
  {
   "cell_type": "code",
   "execution_count": 32,
   "metadata": {
    "id": "QoLqW1S_0q1J"
   },
   "outputs": [
    {
     "data": {
      "image/png": "[encoded data removed]",
      "text/plain": [
       "<Figure size 1000x600 with 1 Axes>"
      ]
     },
     "metadata": {},
     "output_type": "display_data"
    }
   ],
   "source": [
    "# Compara el número de minutos mensuales que necesitan los usuarios de cada plan. Traza un histograma.\n",
    "Grafica_hist(df_allT,\"Month_duration\")\n",
    "\n",
    "plt.xlabel('Duración de llamadas (minutos)')\n",
    "plt.ylabel('Frecuencia')\n",
    "plt.title('Minutos consumidos al mes')\n",
    "plt.xticks(rotation=45)\n",
    "plt.legend()\n",
    "plt.show()\n",
    "\n",
    "#Como no se especifíca y considero que comparar las gráficas es mejor cuando estan una encima de la otra deje el código activo \n",
    "#que consideré mejor, aún así en caso de que se necesiten por separado dejo este.\n",
    "\n",
    "#agr_hist=df_allT.groupby([\"periodo\",\"plan_name\"])[\"Month_duration\"].mean().reset_index()\n",
    "\n",
    "#agr_hist[\"periodo\"]=agr_hist[\"periodo\"].dt.strftime(\"%B\")\n",
    "\n",
    "#agr_hist_surf=agr_hist[agr_hist[\"plan_name\"]==\"surf\"]\n",
    "#agr_hist_ultimate=agr_hist[agr_hist[\"plan_name\"]==\"ultimate\"]\n",
    "\n",
    "#plt.figure(figsize=[12,6])\n",
    "#plt.subplot(1,2,1)\n",
    "#plt.title('Surf')\n",
    "#plt.xlabel('Minutos mensuales')\n",
    "#plt.ylabel('Frecuencia')\n",
    "\n",
    "#plt.hist(agr_hist_surf['Month_duration'],alpha=1,bins=10)\n",
    "\n",
    "#plt.subplot(1,2,2)\n",
    "#plt.hist(agr_hist_ultimate['Month_duration'],alpha=1,bins=10)\n",
    "#plt.title('Ultimate')\n",
    "#plt.xlabel('Minutos mensuales')\n",
    "#plt.ylabel('Frecuencia')\n",
    "\n",
    "#plt.suptitle(\"Frecuencia de llamadas en los planes\")\n",
    "#plt.tight_layout()\n",
    "#plt.show()\n"
   ]
  },
  {
   "cell_type": "markdown",
   "metadata": {
    "id": "bLS9T8OH0q1K"
   },
   "source": [
    "Obteniendo varianza y media"
   ]
  },
  {
   "cell_type": "code",
   "execution_count": 33,
   "metadata": {
    "id": "oSndbAnt0q1K"
   },
   "outputs": [
    {
     "name": "stdout",
     "output_type": "stream",
     "text": [
      "La varianza mensual es de 56401.63979518273 y la media es de 427.419452887538\n",
      " La varianza mensual solo con plan ultimate es de 58543.878651719744 y la media es de 428.0718232044199\n",
      " La varianza mensual solo con plan surf es de 55455.57740014497 y la media es de 427.12032932235593\n",
      " La mediana es de 424.0\n"
     ]
    }
   ],
   "source": [
    "# Calcula la media y la varianza de la duración mensual de llamadas.\n",
    "Var_Mean(df_allT,\"Month_duration\")"
   ]
  },
  {
   "cell_type": "code",
   "execution_count": 34,
   "metadata": {
    "id": "nZzoRUKc0q1K"
   },
   "outputs": [
    {
     "data": {
      "image/png": "[encoded data removed]",
      "text/plain": [
       "<Figure size 640x480 with 1 Axes>"
      ]
     },
     "metadata": {},
     "output_type": "display_data"
    }
   ],
   "source": [
    "# Traza un diagrama de caja para visualizar la distribución de la duración mensual de llamadas\n",
    "caja(df_allT,\"Month_duration\")\n",
    "plt.title('Diagrama de caja de la duración de llamadas')\n",
    "plt.xlabel('Duración(minutos)')\n",
    "plt.show()"
   ]
  },
  {
   "cell_type": "markdown",
   "metadata": {
    "id": "r627zBO50q1K"
   },
   "source": [
    "En primera instancia cuando nos referimos a las llamadas realizadas cada mes dependiendo del plan casi no se ven diferencias tan grandes, excepto en el mes de Febrero donde podemos observar que los que tienen el plan ultimate son más propensos a realizar llamadas probablemente debido al a las festividades que se tiene en el mes. \n",
    "Si tomamos en cuenta los minutos que se consumen al mes dependiendo del plan podemos observar que es más frecuente que las personas que tienen plan ultimate realicen  llamadas que duren de 410 a 550 minutos aproximadamente; mientras que para las personas con plan surf es de duración de 375 a 470 minutos aproximadamente, indicativo de que difiere en cierta medida el comportamiento de las llamadas en función del plan. \n",
    "Al obsevar el histograma podemos ver que si bien las figuras tienen areas que comparten el plan surf tiene un área mayor por lo que se ralizan un mayor número de llamadas con este plan además de que suelen durar más o hay más casos dond lo hacen. Al obtener la media en ambos casos observamos que son bastante similares dado que se tiene distribuciones proporcionales al tamaño."
   ]
  },
  {
   "cell_type": "markdown",
   "metadata": {
    "id": "8idKy8Wh0q1L"
   },
   "source": [
    "### Mensajes"
   ]
  },
  {
   "cell_type": "code",
   "execution_count": 35,
   "metadata": {
    "id": "NXLxiTit0q1L"
   },
   "outputs": [
    {
     "data": {
      "image/png": "[encoded data removed]",
      "text/plain": [
       "<Figure size 1000x600 with 1 Axes>"
      ]
     },
     "metadata": {},
     "output_type": "display_data"
    }
   ],
   "source": [
    "# Comprara el número de mensajes que tienden a enviar cada mes los usuarios de cada plan\n",
    "agr_2=df_allT.groupby([\"periodo\",\"plan_name\"])[\"Month_message\"].mean().reset_index()\n",
    "agr_2=Nombre_meses(agr_2,\"periodo\")\n",
    "\n",
    "\n",
    "Grafica_bar(agr_2,\"Month_message\")\n",
    "plt.xlabel('Periodo')\n",
    "plt.ylabel('mensajes')\n",
    "plt.title('mensajes promedio en un año')\n",
    "plt.xticks(rotation=45)\n",
    "plt.legend()\n",
    "plt.show()    "
   ]
  },
  {
   "cell_type": "code",
   "execution_count": 36,
   "metadata": {
    "id": "GRI_R7xF0q1L"
   },
   "outputs": [
    {
     "data": {
      "image/png": "[encoded data removed]",
      "text/plain": [
       "<Figure size 1000x600 with 1 Axes>"
      ]
     },
     "metadata": {},
     "output_type": "display_data"
    },
    {
     "name": "stdout",
     "output_type": "stream",
     "text": [
      "La varianza mensual es de 1160.4860234054247 y la media es de 33.02257924446374\n",
      " La varianza mensual solo con plan ultimate es de 1209.8276117007863 y la media es de 37.3439226519337\n",
      " La varianza mensual solo con plan surf es de 1126.1180762077681 y la media es de 31.041165294490185\n",
      " La mediana es de 25.0\n"
     ]
    }
   ],
   "source": [
    "Grafica_hist(df_allT,\"Month_message\")\n",
    "plt.xlabel('Número de mensajes')\n",
    "plt.ylabel('Frecuencia')\n",
    "plt.title('Ocurrencia de mensajes')\n",
    "plt.xticks(rotation=45)\n",
    "plt.legend()\n",
    "plt.show()    \n",
    "\n",
    "Var_Mean(df_allT,\"Month_message\")"
   ]
  },
  {
   "cell_type": "code",
   "execution_count": 37,
   "metadata": {
    "id": "dtFwCGAp0q1M"
   },
   "outputs": [
    {
     "data": {
      "image/png": "[encoded data removed]",
      "text/plain": [
       "<Figure size 640x480 with 1 Axes>"
      ]
     },
     "metadata": {},
     "output_type": "display_data"
    }
   ],
   "source": [
    "caja(df_allT,\"Month_message\")\n",
    "plt.title('Diagrama de caja mensajes enviados')\n",
    "plt.xlabel('Mensajes')\n",
    "plt.show()"
   ]
  },
  {
   "cell_type": "markdown",
   "metadata": {
    "id": "390SSL480q1M"
   },
   "source": [
    "Hablando de los mensajes podemos observar que a lo largo del año los usuarios que tienen el plan ultimate suelen enviar más mensajes en promedio, esto se debe a que dentro de su plan el número de mensajes disponibles es mayor que al del plan surf dándoles una mayor libertad en cuanto a la cantidad que requieran gastar, si bien la media entre un plan y el otro no es tan diferente destaca las diferencias en las graficas obtenidas, en el histograma podemos ver una dominación mayor por parte del plan surf en cuanto área, esto se debe a que hay más usuarios del plan surf que plan ultimate.\n",
    "\n",
    "Este análisis nos da un indicio que los mensajes el plan ultimate son más utilizados que en el plan surf, cabe notar que el sesgo del diagrama de caja es derecho y la mediana es más cercana al valor de la media del plan surf (25 y 31.041165294490185 respectivamente) y que los valores después del 120 mensajes enviados aproximadamenre pertenecen a valores atípicos dentro de nuestro análisis. "
   ]
  },
  {
   "cell_type": "markdown",
   "metadata": {
    "id": "42YSypXz0q1M"
   },
   "source": [
    "### Internet"
   ]
  },
  {
   "cell_type": "code",
   "execution_count": 38,
   "metadata": {
    "id": "lSuKPtjh0q1M"
   },
   "outputs": [
    {
     "data": {
      "image/png": "[encoded data removed]",
      "text/plain": [
       "<Figure size 1000x600 with 1 Axes>"
      ]
     },
     "metadata": {},
     "output_type": "display_data"
    }
   ],
   "source": [
    "# Compara la cantidad de tráfico de Internet consumido por usuarios por plan\n",
    "agr_3=df_allT.groupby([\"periodo\",\"plan_name\"])[\"Month_GB\"].mean().reset_index()\n",
    "\n",
    "agr_3=Nombre_meses(agr_3,\"periodo\")\n",
    "\n",
    "Grafica_bar(agr_3,\"Month_GB\")\n",
    "plt.xlabel('Periodo')\n",
    "plt.ylabel('GB')\n",
    "plt.title('GB gastados en promedio en un año')\n",
    "plt.xticks(rotation=45)\n",
    "plt.legend()\n",
    "plt.show()   \n"
   ]
  },
  {
   "cell_type": "code",
   "execution_count": 39,
   "metadata": {
    "id": "wnh8jYXi0q1N"
   },
   "outputs": [
    {
     "data": {
      "image/png": "[encoded data removed]",
      "text/plain": [
       "<Figure size 1000x600 with 1 Axes>"
      ]
     },
     "metadata": {},
     "output_type": "display_data"
    },
    {
     "name": "stdout",
     "output_type": "stream",
     "text": [
      "La varianza mensual es de 61.74730765182573 y la media es de 16.797221016066\n",
      " La varianza mensual solo con plan ultimate es de 60.153066565797815 y la media es de 17.21132596685083\n",
      " La varianza mensual solo con plan surf es de 62.40212597053693 y la media es de 16.60734642178594\n",
      " La mediana es de 17.0\n"
     ]
    }
   ],
   "source": [
    "Grafica_hist(df_allT,\"Month_GB\")\n",
    "plt.xlabel('GB gastados')\n",
    "plt.ylabel('Frecuencia')\n",
    "plt.title('Gasto de GB')\n",
    "plt.xticks(rotation=45)\n",
    "plt.legend()\n",
    "plt.show() \n",
    "Var_Mean(df_allT,\"Month_GB\")"
   ]
  },
  {
   "cell_type": "code",
   "execution_count": 40,
   "metadata": {
    "id": "5VlyJ9ry0q1N"
   },
   "outputs": [
    {
     "data": {
      "image/png": "[encoded data removed]",
      "text/plain": [
       "<Figure size 640x480 with 1 Axes>"
      ]
     },
     "metadata": {},
     "output_type": "display_data"
    }
   ],
   "source": [
    "caja(df_allT,\"Month_GB\")\n",
    "plt.title('Diagrama de caja de mb gastados')\n",
    "plt.xlabel('GB')\n",
    "plt.show()"
   ]
  },
  {
   "cell_type": "markdown",
   "metadata": {
    "id": "UN9zwuMP0q1N"
   },
   "source": [
    "Si hablamos del uso de internet a través de los GB gastados a lo largo de un año nos damos cuenta que a mayor cantidad de GB disponibles en el plan más gasto de GB se tiene, esto tiene sentido ya que un usuario que tiene la necesidad de estar conectado a internet por ciertos motivos lo usará más a menudo razón por la cual elegirá un plan que le otorgue un paquete de GB sufucientes para su día a día, analizando el histograma vemos que tomando en cuenta la proporción el comportamiento de gastos entre los usuarios ultimate y surf es muy cercano, el diagrama de caja está sesgado a la izquierda y que el gasto por encima de los 33 GB aproximadamente es raro pero si hay casos, por lo que podemos decir que si bien no hay una diferencia alta en este caso las personas del plan ultimate sulen explotar más el gasto de GB seguramente porque tienen una mayor cantidad disponible antes de que se les penalice por excederse. "
   ]
  },
  {
   "cell_type": "markdown",
   "metadata": {
    "id": "tCijq3260q1N"
   },
   "source": [
    "## Ingreso"
   ]
  },
  {
   "cell_type": "markdown",
   "metadata": {
    "id": "9nq5IAcy0q1O"
   },
   "source": [
    "Obteniendo el comportamiento de los ingresos por ususario cada mes."
   ]
  },
  {
   "cell_type": "code",
   "execution_count": 41,
   "metadata": {
    "id": "tz-dq_V00q1O"
   },
   "outputs": [
    {
     "data": {
      "image/png": "[encoded data removed]",
      "text/plain": [
       "<Figure size 1000x600 with 1 Axes>"
      ]
     },
     "metadata": {},
     "output_type": "display_data"
    }
   ],
   "source": [
    "agr_4=df_allT.groupby([\"periodo\",\"plan_name\"])[\"total\"].sum().reset_index()\n",
    "agr_4=Nombre_meses(agr_4,\"periodo\")\n",
    "Grafica_bar(agr_4,\"total\")\n",
    "plt.xlabel('Periodo')\n",
    "plt.ylabel('USD')\n",
    "plt.title('Ingreso total de los planes en el año')\n",
    "plt.xticks(rotation=45)\n",
    "plt.legend()\n",
    "plt.show()    "
   ]
  },
  {
   "cell_type": "code",
   "execution_count": 42,
   "metadata": {
    "id": "0Y1v8ZUz0q1P"
   },
   "outputs": [
    {
     "data": {
      "image/png": "[encoded data removed]",
      "text/plain": [
       "<Figure size 1000x600 with 1 Axes>"
      ]
     },
     "metadata": {},
     "output_type": "display_data"
    },
    {
     "name": "stdout",
     "output_type": "stream",
     "text": [
      "La varianza mensual es de 2169.613234138677 y la media es de 64.2454103343465\n",
      " La varianza mensual solo con plan ultimate es de 129.15955617707067 y la media es de 72.3011049723757\n",
      " La varianza mensual solo con plan surf es de 3062.4468636121587 y la media es de 60.551728942368584\n",
      " La mediana es de 70.0\n"
     ]
    }
   ],
   "source": [
    "Grafica_hist(df_allT,\"total\")\n",
    "plt.xlabel('Ocurrencia de ingresos en distintos meses')\n",
    "plt.ylabel('Frecuencia')\n",
    "plt.title('ingresos')\n",
    "plt.xticks(rotation=45)\n",
    "plt.legend()\n",
    "plt.show()  \n",
    "Var_Mean(df_allT,\"total\")"
   ]
  },
  {
   "cell_type": "code",
   "execution_count": 43,
   "metadata": {
    "id": "bYmwxyVh0q1P"
   },
   "outputs": [
    {
     "data": {
      "image/png": "[encoded data removed]",
      "text/plain": [
       "<Figure size 640x480 with 1 Axes>"
      ]
     },
     "metadata": {},
     "output_type": "display_data"
    }
   ],
   "source": [
    "caja(df_allT,\"total\")\n",
    "plt.title('Diagrama de caja de ingresos mensuales')\n",
    "plt.xlabel('USD')\n",
    "plt.show()"
   ]
  },
  {
   "cell_type": "markdown",
   "metadata": {
    "id": "KAFidcXZ0q1P"
   },
   "source": [
    "En este caso podemos ver en las gráficas que predomina el plan surf, esto se debe a que si bien mensualmente tiene un precio mensual menor al ultime el usuriario al excederse tiene que pagar una cantidad de dinero significativa frente a la que tiene que pagar un usuario del plan ultime si este se excede, dado que la cantidad a pagar es mayor hace que los ingresos de obtenidos del plan surf sean mayores al otro, además hay que tomar en cuenta que el paquete de datos que obtiene un usuario (mb, mensajes y llamadas) surf son bastante menores a los del plan ultimate y por lo consiguiente los usuarios del plan surf serán más suceptibles a excederse.\n",
    "Si tomamos en cuenta lo anterior podemos deducir que para usuarios de plan ultimate el pago mensual que realizan no es muy diferente a la cuota establecida por el plan, sin embargo, para el plan surf hay tantas circunstancias en las que pueden excederse por lo que ingreso obtenido en el plan surf es mayor que el que se obtiene en el plan ultimate, se puede obervar este comportamiento en el histograma donde plan ultimate es símetrico y el plan ultimate muestra un sesgo a la derecha debido a la cantidad de excesos exsitentes en el periodo presentado."
   ]
  },
  {
   "cell_type": "markdown",
   "metadata": {
    "id": "ajJ7VKeI0q1Q"
   },
   "source": [
    "## Prueba las hipótesis estadísticas"
   ]
  },
  {
   "cell_type": "markdown",
   "metadata": {},
   "source": [
    "Hipótesis nula: El ingreso promedio mensual de los usuarios no es diferente según el plan."
   ]
  },
  {
   "cell_type": "code",
   "execution_count": 44,
   "metadata": {
    "id": "nFoPNlPq0q1R"
   },
   "outputs": [
    {
     "name": "stdout",
     "output_type": "stream",
     "text": [
      "El promedio de ingresos del plan ultimate es 72.3011049723757 y el del plan surf es 60.551728942368584\n",
      "Varianza del plan ultimate es: 128.98115900003052 y la varianza del plan surf es: 3060.5073785813724\n",
      "valor p: 1.218411585212325e-15\n",
      "Rechazamos la hipótesis nula\n",
      "Hay diferencias significativas entre los ingresos entre el plan surf con el plan ultimate\n"
     ]
    }
   ],
   "source": [
    "# Prueba las hipótesis\n",
    "df_allT_S=df_allT[df_allT[\"plan_name\"]==\"surf\"]\n",
    "df_allT_U=df_allT[df_allT[\"plan_name\"]==\"ultimate\"]\n",
    "\n",
    "surf_mean=df_allT_S[\"total\"].mean()\n",
    "ultimate_mean=df_allT_U[\"total\"].mean()\n",
    "surf_var=np.var(df_allT_S[\"total\"])\n",
    "ultimate_var=np.var(df_allT_U[\"total\"])\n",
    "alpha= 0.05\n",
    "\n",
    "print(f\"El promedio de ingresos del plan ultimate es {ultimate_mean} y el del plan surf es {surf_mean}\")\n",
    "print(f\"Varianza del plan ultimate es: {ultimate_var} y la varianza del plan surf es: {surf_var}\")\n",
    "\n",
    "results = st.ttest_ind(df_allT_S[\"total\"],df_allT_U[\"total\"] ,equal_var=False)\n",
    "print('valor p:', results.pvalue)\n",
    "\n",
    "if (results.pvalue<alpha):\n",
    "    print(\"Rechazamos la hipótesis nula\")\n",
    "    print(\"Hay diferencias significativas entre los ingresos entre el plan surf con el plan ultimate\")\n",
    "else:\n",
    "    print(\"No podemos rechazar la hipótesis nula\")\n",
    "    print(\"No hay diferencias significativas entre los ingresos entre el plan surf con el plan ultimate\")\n"
   ]
  },
  {
   "cell_type": "markdown",
   "metadata": {
    "id": "tCcAruM60q1R"
   },
   "source": [
    "Hipótesis nula: El ingreso promedio de los usuarios del área NY-NJ no es diferente al de los usuarios de otras regiones. "
   ]
  },
  {
   "cell_type": "code",
   "execution_count": 45,
   "metadata": {
    "id": "Cqcj7wrZ0q1S"
   },
   "outputs": [
    {
     "name": "stdout",
     "output_type": "stream",
     "text": [
      "El promedio de ingresos en las regiones New York-Newark-Jersey City es 59.94801587301587 y el del resto de regiones es 65.08926233766235\n",
      "Varianza de la región New York-Newark-Jersey Cityes es: 1885.7843645817586 y la varianza del resto de regiones es: 2219.881380131179\n",
      "valor p: 0.04974528277407551\n",
      "Rechazamos la hipótesis nula\n",
      "Hay diferencias significativas entre el ingreso del área NY-NJ con el resto de regiones\n"
     ]
    }
   ],
   "source": [
    "# Prueba las hipótesis\n",
    "si_NNYJ=df_allT[df_allT[\"city\"].str.contains(\"NY-NJ\")]\n",
    "#print(si_NNYJ[\"city\"].unique())\n",
    "no_NNYJ=df_allT[~df_allT[\"city\"].str.contains(\"NY-NJ\")]\n",
    "#print(no_NNYJ)\n",
    "\n",
    "si_mean=si_NNYJ[\"total\"].mean()\n",
    "no_mean=no_NNYJ[\"total\"].mean()\n",
    "si_var=np.var(si_NNYJ[\"total\"])\n",
    "no_var=np.var(no_NNYJ[\"total\"])\n",
    "alpha= 0.05\n",
    "\n",
    "print(f\"El promedio de ingresos en las regiones New York-Newark-Jersey City es {si_mean} y el del resto de regiones es {no_mean}\")\n",
    "print(f\"Varianza de la región New York-Newark-Jersey Cityes es: {si_var} y la varianza del resto de regiones es: {no_var}\")\n",
    "\n",
    "results2 = st.ttest_ind(si_NNYJ[\"total\"],no_NNYJ[\"total\"] ,equal_var=True)\n",
    "print('valor p:', results2.pvalue)\n",
    "\n",
    "if (results2.pvalue<alpha):\n",
    "    print(\"Rechazamos la hipótesis nula\")\n",
    "    print(\"Hay diferencias significativas entre el ingreso del área NY-NJ con el resto de regiones\")\n",
    "else:\n",
    "    print(\"No podemos rechazar la hipótesis nula\")\n",
    "    print(\"No hay diferencias significativas entre el ingreso del área NY-NJ con el resto de regiones\")\n",
    "\n"
   ]
  },
  {
   "cell_type": "markdown",
   "metadata": {
    "id": "bbTR8UQO0q1T"
   },
   "source": [
    "## Conclusión general\n",
    "Después de realizar los análisis correspondientes a este proyecto podermos decir que el plan surf es más rentable que el plan ultimate pues del primero se perciben mayores ingresos, esto se debe a que los usuarios suelen excederse en las llamadas, mensajes y GBs permitidos dentro plan, por lo que suelen pagar más que la tarifa, mientras que los usuarios del plan ultimate no suelen presentar excesos tan a menudo y de hacerlo no son significativamente grandes a comparación del precio de la tarifa establecida. \n",
    "\n",
    "El comportamiento de los ususarios del plan ultimate suele ser mayor respecto al uso de los recuerso que el de los usuarios surf pero al no excederse el ingreso no es mayor, además que al observar cada uno de los análisis realizados a las áreas de interés podemos ver una mayor cantidad de usuarios que tiene el plan surf, por lo que histogramas como diagramas de caja que nos hablan del comportamiento en general serán más suceptibles a los valores atípicos provenientes de los usuarios del plan surf.\n",
    "\n",
    "Tomando en cuenta lo del párrafo anterior podemos comprender porque las regiones de New York-Newark-Jersey City tienen un ingreso similar a la suma del resto de las regiones (por el alto vólumen de pesonas que viven o realizan actividades en esas localizaciones), sin embargo, no es lo suficientemente grande como para ser similar por lo que es significativamente mayor el ingreso obtenido en el resto de regiones que en las regiones de New York-Newark-Jersey City."
   ]
  }
 ],
 "metadata": {
  "ExecuteTimeLog": [
   {
    "duration": 828,
    "start_time": "2021-11-16T09:21:11.304Z"
   },
   {
    "duration": 893,
    "start_time": "2021-11-16T09:21:17.728Z"
   },
   {
    "duration": 1150,
    "start_time": "2021-11-16T09:21:29.568Z"
   },
   {
    "duration": 3,
    "start_time": "2021-11-16T09:24:14.495Z"
   },
   {
    "duration": 120,
    "start_time": "2021-11-16T09:24:46.630Z"
   },
   {
    "duration": 3,
    "start_time": "2021-11-16T09:28:27.882Z"
   },
   {
    "duration": 4,
    "start_time": "2021-11-16T09:29:54.281Z"
   },
   {
    "duration": 3,
    "start_time": "2021-11-16T09:30:45.936Z"
   },
   {
    "duration": 4,
    "start_time": "2021-11-16T09:31:06.300Z"
   },
   {
    "duration": 113,
    "start_time": "2021-11-16T09:31:37.208Z"
   },
   {
    "duration": 143,
    "start_time": "2021-11-16T09:31:48.656Z"
   },
   {
    "duration": 98,
    "start_time": "2021-11-16T09:31:55.678Z"
   },
   {
    "duration": 3,
    "start_time": "2021-11-16T09:32:08.535Z"
   },
   {
    "duration": 111,
    "start_time": "2021-11-16T09:32:10.120Z"
   },
   {
    "duration": 3,
    "start_time": "2021-11-16T09:32:15.732Z"
   },
   {
    "duration": 4,
    "start_time": "2021-11-16T09:32:29.423Z"
   },
   {
    "duration": 3,
    "start_time": "2021-11-16T10:03:03.074Z"
   },
   {
    "duration": 3,
    "start_time": "2021-11-16T10:10:01.288Z"
   },
   {
    "duration": 3,
    "start_time": "2021-11-16T10:10:46.923Z"
   },
   {
    "duration": 121,
    "start_time": "2021-11-16T10:37:46.494Z"
   },
   {
    "duration": 125,
    "start_time": "2021-11-16T10:38:20.632Z"
   },
   {
    "duration": 112,
    "start_time": "2021-11-16T10:46:53.001Z"
   },
   {
    "duration": 110,
    "start_time": "2021-11-16T10:48:25.775Z"
   },
   {
    "duration": 3,
    "start_time": "2021-11-16T10:50:18.720Z"
   },
   {
    "duration": 4,
    "start_time": "2021-11-16T10:50:37.649Z"
   },
   {
    "duration": 2,
    "start_time": "2021-11-16T10:50:51.884Z"
   },
   {
    "duration": 3,
    "start_time": "2021-11-16T10:51:56.237Z"
   },
   {
    "duration": 101,
    "start_time": "2021-11-16T10:53:13.791Z"
   },
   {
    "duration": 3,
    "start_time": "2021-11-16T10:55:59.186Z"
   },
   {
    "duration": 3,
    "start_time": "2021-11-16T10:56:10.751Z"
   },
   {
    "duration": 3,
    "start_time": "2021-11-16T10:56:49.038Z"
   },
   {
    "duration": 3,
    "start_time": "2021-11-16T10:56:49.174Z"
   },
   {
    "duration": 4,
    "start_time": "2021-11-16T10:56:49.414Z"
   },
   {
    "duration": 3,
    "start_time": "2021-11-16T10:56:49.680Z"
   },
   {
    "duration": 3,
    "start_time": "2021-11-16T10:56:50.370Z"
   },
   {
    "duration": 114,
    "start_time": "2021-11-16T10:59:34.518Z"
   },
   {
    "duration": 3,
    "start_time": "2021-11-16T11:01:41.201Z"
   },
   {
    "duration": 116,
    "start_time": "2021-11-16T11:01:48.754Z"
   },
   {
    "duration": 3,
    "start_time": "2021-11-16T11:02:16.685Z"
   },
   {
    "duration": 3,
    "start_time": "2021-11-16T11:02:19.479Z"
   },
   {
    "duration": 3,
    "start_time": "2021-11-16T11:02:47.067Z"
   },
   {
    "duration": 3,
    "start_time": "2021-11-16T11:02:49.353Z"
   },
   {
    "duration": 3,
    "start_time": "2021-11-16T11:03:07.835Z"
   },
   {
    "duration": 3,
    "start_time": "2021-11-16T11:03:07.953Z"
   },
   {
    "duration": 112,
    "start_time": "2021-11-16T11:07:52.072Z"
   },
   {
    "duration": 187,
    "start_time": "2021-11-16T11:09:23.468Z"
   },
   {
    "duration": 4,
    "start_time": "2021-11-16T11:10:01.455Z"
   },
   {
    "duration": 3,
    "start_time": "2021-11-16T11:10:05.069Z"
   },
   {
    "duration": 4,
    "start_time": "2021-11-16T11:10:13.376Z"
   },
   {
    "duration": 3,
    "start_time": "2021-11-16T11:10:14.434Z"
   },
   {
    "duration": 3,
    "start_time": "2021-11-16T11:10:22.853Z"
   },
   {
    "duration": 4,
    "start_time": "2021-11-16T11:27:29.279Z"
   },
   {
    "duration": 4,
    "start_time": "2021-11-16T11:29:08.919Z"
   },
   {
    "duration": 118,
    "start_time": "2021-11-16T11:29:46.703Z"
   },
   {
    "duration": 437,
    "start_time": "2021-11-16T11:36:02.181Z"
   },
   {
    "duration": 157,
    "start_time": "2021-11-16T11:36:14.388Z"
   },
   {
    "duration": 207,
    "start_time": "2021-11-16T11:47:15.898Z"
   },
   {
    "duration": 3,
    "start_time": "2021-11-16T11:53:52.092Z"
   },
   {
    "duration": 3,
    "start_time": "2021-11-16T11:53:52.236Z"
   },
   {
    "duration": 3,
    "start_time": "2021-11-16T11:59:12.005Z"
   },
   {
    "duration": 112,
    "start_time": "2021-11-16T12:00:33.446Z"
   },
   {
    "duration": 3,
    "start_time": "2021-11-16T12:02:14.453Z"
   },
   {
    "duration": 3,
    "start_time": "2021-11-16T12:02:39.512Z"
   },
   {
    "duration": 106,
    "start_time": "2021-11-16T12:03:03.460Z"
   },
   {
    "duration": 3,
    "start_time": "2021-11-17T20:37:21.139Z"
   },
   {
    "duration": 3,
    "start_time": "2021-11-17T20:37:22.229Z"
   },
   {
    "duration": 3,
    "start_time": "2021-11-17T20:38:38.806Z"
   },
   {
    "duration": 3,
    "start_time": "2021-11-17T20:38:41.958Z"
   },
   {
    "duration": 3,
    "start_time": "2021-11-17T20:43:46.551Z"
   },
   {
    "duration": 4,
    "start_time": "2021-11-17T20:58:21.835Z"
   },
   {
    "duration": 3,
    "start_time": "2021-11-17T20:59:21.872Z"
   },
   {
    "duration": 4,
    "start_time": "2021-11-17T20:59:45.352Z"
   },
   {
    "duration": 4,
    "start_time": "2021-11-17T20:59:49.646Z"
   },
   {
    "duration": 159,
    "start_time": "2021-11-17T21:02:26.949Z"
   },
   {
    "duration": 3,
    "start_time": "2021-11-17T21:03:53.461Z"
   },
   {
    "duration": 3,
    "start_time": "2021-11-17T21:03:53.694Z"
   },
   {
    "duration": 3,
    "start_time": "2021-11-17T21:05:28.145Z"
   },
   {
    "duration": 116,
    "start_time": "2021-11-17T21:05:57.787Z"
   },
   {
    "duration": 3,
    "start_time": "2021-11-17T21:06:37.993Z"
   },
   {
    "duration": 3,
    "start_time": "2021-11-17T21:06:38.261Z"
   },
   {
    "duration": 3,
    "start_time": "2021-11-17T21:11:54.358Z"
   },
   {
    "duration": 3,
    "start_time": "2021-11-17T21:12:43.846Z"
   },
   {
    "duration": 4,
    "start_time": "2021-11-17T21:13:08.773Z"
   },
   {
    "duration": 3,
    "start_time": "2021-11-17T21:14:44.441Z"
   },
   {
    "duration": 3,
    "start_time": "2021-11-17T21:15:42.059Z"
   },
   {
    "duration": 4,
    "start_time": "2021-11-17T21:15:51.995Z"
   },
   {
    "duration": 3,
    "start_time": "2021-11-17T21:15:53.923Z"
   },
   {
    "duration": 3,
    "start_time": "2021-11-17T21:15:55.282Z"
   },
   {
    "duration": 3,
    "start_time": "2021-11-17T21:16:28.492Z"
   },
   {
    "duration": 3,
    "start_time": "2021-11-17T21:16:32.603Z"
   },
   {
    "duration": 3,
    "start_time": "2021-11-17T21:17:06.941Z"
   },
   {
    "duration": 98,
    "start_time": "2021-11-17T21:18:05.733Z"
   },
   {
    "duration": 4,
    "start_time": "2021-11-17T21:21:35.255Z"
   },
   {
    "duration": 3,
    "start_time": "2021-11-17T21:21:37.804Z"
   },
   {
    "duration": 4,
    "start_time": "2021-11-17T21:23:06.071Z"
   },
   {
    "duration": 3,
    "start_time": "2021-11-17T21:23:24.799Z"
   },
   {
    "duration": 3,
    "start_time": "2021-11-17T21:23:32.591Z"
   },
   {
    "duration": 98,
    "start_time": "2021-11-17T21:28:31.559Z"
   },
   {
    "duration": 3,
    "start_time": "2021-11-17T21:28:45.448Z"
   },
   {
    "duration": 3,
    "start_time": "2021-11-17T21:29:17.303Z"
   },
   {
    "duration": 3,
    "start_time": "2021-11-17T21:29:29.617Z"
   },
   {
    "duration": 3,
    "start_time": "2021-11-17T21:29:32.681Z"
   },
   {
    "duration": 3,
    "start_time": "2021-11-17T21:36:11.474Z"
   },
   {
    "duration": 3,
    "start_time": "2021-11-17T21:36:14.791Z"
   },
   {
    "duration": 3,
    "start_time": "2021-11-17T21:36:53.943Z"
   },
   {
    "duration": 3,
    "start_time": "2021-11-17T21:36:56.165Z"
   },
   {
    "duration": 4,
    "start_time": "2021-11-17T21:37:16.590Z"
   },
   {
    "duration": 3,
    "start_time": "2021-11-17T21:37:22.702Z"
   },
   {
    "duration": 4,
    "start_time": "2021-11-17T21:38:03.479Z"
   },
   {
    "duration": 3,
    "start_time": "2021-11-17T21:38:08.601Z"
   },
   {
    "duration": 3,
    "start_time": "2021-11-17T21:38:12.928Z"
   },
   {
    "duration": 3,
    "start_time": "2021-11-17T21:38:48.896Z"
   },
   {
    "duration": 2,
    "start_time": "2021-11-17T21:38:49.171Z"
   },
   {
    "duration": 4,
    "start_time": "2021-11-17T21:39:57.889Z"
   },
   {
    "duration": 3,
    "start_time": "2021-11-17T21:39:58.057Z"
   },
   {
    "duration": 3,
    "start_time": "2021-11-17T21:41:20.108Z"
   },
   {
    "duration": 3,
    "start_time": "2021-11-17T21:41:20.629Z"
   },
   {
    "duration": 3,
    "start_time": "2021-11-17T21:42:49.136Z"
   },
   {
    "duration": 3,
    "start_time": "2021-11-17T21:43:15.137Z"
   },
   {
    "duration": 4,
    "start_time": "2021-11-17T21:43:16.766Z"
   },
   {
    "duration": 4,
    "start_time": "2021-11-17T21:43:31.711Z"
   },
   {
    "duration": 3,
    "start_time": "2021-11-17T21:43:36.312Z"
   },
   {
    "duration": 4,
    "start_time": "2021-11-17T21:45:08.825Z"
   },
   {
    "duration": 4,
    "start_time": "2021-11-17T21:45:10.119Z"
   },
   {
    "duration": 4,
    "start_time": "2021-11-17T21:45:13.748Z"
   },
   {
    "duration": 3,
    "start_time": "2021-11-17T21:45:22.219Z"
   },
   {
    "duration": 3,
    "start_time": "2021-11-17T21:45:33.412Z"
   },
   {
    "duration": 2,
    "start_time": "2021-11-17T21:46:01.885Z"
   },
   {
    "duration": 3,
    "start_time": "2021-11-17T21:46:03.628Z"
   },
   {
    "duration": 107,
    "start_time": "2021-11-17T21:47:32.512Z"
   },
   {
    "duration": 103,
    "start_time": "2021-11-17T21:50:36.243Z"
   },
   {
    "duration": 3,
    "start_time": "2021-11-18T06:28:31.440Z"
   },
   {
    "duration": 3,
    "start_time": "2021-11-18T06:29:00.168Z"
   },
   {
    "duration": 3,
    "start_time": "2021-11-18T06:31:27.008Z"
   },
   {
    "duration": 2,
    "start_time": "2021-11-18T06:35:34.288Z"
   },
   {
    "duration": 2,
    "start_time": "2021-11-18T06:38:04.527Z"
   },
   {
    "duration": 2556,
    "start_time": "2024-10-12T16:28:34.138Z"
   },
   {
    "duration": 521,
    "start_time": "2024-10-12T16:28:36.696Z"
   },
   {
    "duration": 122,
    "start_time": "2024-10-12T16:30:38.451Z"
   },
   {
    "duration": 75,
    "start_time": "2024-10-12T16:31:33.898Z"
   },
   {
    "duration": 232,
    "start_time": "2024-10-12T16:33:38.802Z"
   },
   {
    "duration": 9,
    "start_time": "2024-10-12T16:38:32.527Z"
   },
   {
    "duration": 7,
    "start_time": "2024-10-12T16:38:34.928Z"
   },
   {
    "duration": 180,
    "start_time": "2024-10-12T22:16:01.660Z"
   },
   {
    "duration": 2941,
    "start_time": "2024-10-12T22:16:24.009Z"
   },
   {
    "duration": 282,
    "start_time": "2024-10-12T22:16:26.952Z"
   },
   {
    "duration": 17,
    "start_time": "2024-10-12T22:16:27.656Z"
   },
   {
    "duration": 7,
    "start_time": "2024-10-12T22:16:28.509Z"
   },
   {
    "duration": 4,
    "start_time": "2024-10-12T22:16:31.510Z"
   },
   {
    "duration": 4,
    "start_time": "2024-10-12T22:21:49.712Z"
   },
   {
    "duration": 18,
    "start_time": "2024-10-12T22:39:39.144Z"
   },
   {
    "duration": 14,
    "start_time": "2024-10-12T22:39:41.052Z"
   },
   {
    "duration": 4,
    "start_time": "2024-10-12T23:11:43.625Z"
   },
   {
    "duration": 12,
    "start_time": "2024-10-12T23:14:59.875Z"
   },
   {
    "duration": 17,
    "start_time": "2024-10-12T23:18:50.306Z"
   },
   {
    "duration": 11,
    "start_time": "2024-10-12T23:20:06.310Z"
   },
   {
    "duration": 14,
    "start_time": "2024-10-12T23:21:26.197Z"
   },
   {
    "duration": 2374,
    "start_time": "2024-10-14T14:53:35.884Z"
   },
   {
    "duration": 227,
    "start_time": "2024-10-14T14:53:38.260Z"
   },
   {
    "duration": 9,
    "start_time": "2024-10-14T14:53:39.463Z"
   },
   {
    "duration": 7,
    "start_time": "2024-10-14T14:53:40.053Z"
   },
   {
    "duration": 4,
    "start_time": "2024-10-14T14:53:41.802Z"
   },
   {
    "duration": 4,
    "start_time": "2024-10-14T14:53:45.011Z"
   },
   {
    "duration": 9,
    "start_time": "2024-10-14T14:53:46.542Z"
   },
   {
    "duration": 9,
    "start_time": "2024-10-14T14:53:47.164Z"
   },
   {
    "duration": 10,
    "start_time": "2024-10-14T14:53:50.243Z"
   },
   {
    "duration": 12,
    "start_time": "2024-10-14T14:53:51.556Z"
   },
   {
    "duration": 2,
    "start_time": "2024-10-14T14:53:52.317Z"
   },
   {
    "duration": 15,
    "start_time": "2024-10-14T15:01:28.097Z"
   },
   {
    "duration": 8,
    "start_time": "2024-10-14T15:01:30.530Z"
   },
   {
    "duration": 38,
    "start_time": "2024-10-14T15:15:33.008Z"
   },
   {
    "duration": 13,
    "start_time": "2024-10-14T15:17:46.617Z"
   },
   {
    "duration": 7,
    "start_time": "2024-10-14T15:18:37.265Z"
   },
   {
    "duration": 755,
    "start_time": "2024-10-14T15:19:03.654Z"
   },
   {
    "duration": 148,
    "start_time": "2024-10-14T15:19:04.603Z"
   },
   {
    "duration": 9,
    "start_time": "2024-10-14T15:19:06.593Z"
   },
   {
    "duration": 5,
    "start_time": "2024-10-14T15:19:07.038Z"
   },
   {
    "duration": 11,
    "start_time": "2024-10-14T15:19:09.340Z"
   },
   {
    "duration": 3,
    "start_time": "2024-10-14T15:19:10.642Z"
   },
   {
    "duration": 8,
    "start_time": "2024-10-14T15:19:11.479Z"
   },
   {
    "duration": 11,
    "start_time": "2024-10-14T15:19:11.882Z"
   },
   {
    "duration": 12,
    "start_time": "2024-10-14T15:19:13.761Z"
   },
   {
    "duration": 13,
    "start_time": "2024-10-14T15:19:15.369Z"
   },
   {
    "duration": 16,
    "start_time": "2024-10-14T15:19:16.695Z"
   },
   {
    "duration": 7,
    "start_time": "2024-10-14T15:19:17.329Z"
   },
   {
    "duration": 42,
    "start_time": "2024-10-14T15:19:22.807Z"
   },
   {
    "duration": 25,
    "start_time": "2024-10-14T15:21:57.536Z"
   },
   {
    "duration": 16,
    "start_time": "2024-10-14T15:25:29.068Z"
   },
   {
    "duration": 6,
    "start_time": "2024-10-14T15:25:30.289Z"
   },
   {
    "duration": 22,
    "start_time": "2024-10-14T15:37:23.658Z"
   },
   {
    "duration": 18,
    "start_time": "2024-10-14T15:38:08.832Z"
   },
   {
    "duration": 14,
    "start_time": "2024-10-14T15:47:38.743Z"
   },
   {
    "duration": 9,
    "start_time": "2024-10-14T15:47:40.013Z"
   },
   {
    "duration": 41,
    "start_time": "2024-10-14T15:51:44.437Z"
   },
   {
    "duration": 749,
    "start_time": "2024-10-14T15:54:20.913Z"
   },
   {
    "duration": 149,
    "start_time": "2024-10-14T15:54:21.751Z"
   },
   {
    "duration": 9,
    "start_time": "2024-10-14T15:54:24.421Z"
   },
   {
    "duration": 6,
    "start_time": "2024-10-14T15:54:25.136Z"
   },
   {
    "duration": 7,
    "start_time": "2024-10-14T15:54:27.245Z"
   },
   {
    "duration": 4,
    "start_time": "2024-10-14T15:54:28.606Z"
   },
   {
    "duration": 8,
    "start_time": "2024-10-14T15:54:29.591Z"
   },
   {
    "duration": 10,
    "start_time": "2024-10-14T15:54:30.166Z"
   },
   {
    "duration": 13,
    "start_time": "2024-10-14T15:54:31.857Z"
   },
   {
    "duration": 12,
    "start_time": "2024-10-14T15:54:32.951Z"
   },
   {
    "duration": 16,
    "start_time": "2024-10-14T15:54:33.775Z"
   },
   {
    "duration": 7,
    "start_time": "2024-10-14T15:54:34.165Z"
   },
   {
    "duration": 39,
    "start_time": "2024-10-14T15:54:35.735Z"
   },
   {
    "duration": 26,
    "start_time": "2024-10-14T15:54:37.187Z"
   },
   {
    "duration": 11,
    "start_time": "2024-10-14T15:54:38.218Z"
   },
   {
    "duration": 5,
    "start_time": "2024-10-14T15:54:38.501Z"
   },
   {
    "duration": 21,
    "start_time": "2024-10-14T15:54:40.085Z"
   },
   {
    "duration": 17,
    "start_time": "2024-10-14T15:54:41.309Z"
   },
   {
    "duration": 14,
    "start_time": "2024-10-14T15:54:42.179Z"
   },
   {
    "duration": 6,
    "start_time": "2024-10-14T15:54:43.058Z"
   },
   {
    "duration": 40,
    "start_time": "2024-10-14T15:54:45.523Z"
   },
   {
    "duration": 22,
    "start_time": "2024-10-14T15:54:48.219Z"
   },
   {
    "duration": 8,
    "start_time": "2024-10-14T15:57:08.199Z"
   },
   {
    "duration": 9,
    "start_time": "2024-10-14T15:58:25.362Z"
   },
   {
    "duration": 2503,
    "start_time": "2024-10-14T16:20:26.540Z"
   },
   {
    "duration": 206,
    "start_time": "2024-10-14T16:20:29.046Z"
   },
   {
    "duration": 9,
    "start_time": "2024-10-14T16:20:29.253Z"
   },
   {
    "duration": 7,
    "start_time": "2024-10-14T16:20:29.264Z"
   },
   {
    "duration": 6,
    "start_time": "2024-10-14T16:20:30.419Z"
   },
   {
    "duration": 3,
    "start_time": "2024-10-14T16:20:31.219Z"
   },
   {
    "duration": 8,
    "start_time": "2024-10-14T16:20:31.688Z"
   },
   {
    "duration": 11,
    "start_time": "2024-10-14T16:20:31.890Z"
   },
   {
    "duration": 13,
    "start_time": "2024-10-14T16:20:32.770Z"
   },
   {
    "duration": 11,
    "start_time": "2024-10-14T16:20:33.450Z"
   },
   {
    "duration": 15,
    "start_time": "2024-10-14T16:20:33.879Z"
   },
   {
    "duration": 7,
    "start_time": "2024-10-14T16:20:34.101Z"
   },
   {
    "duration": 42,
    "start_time": "2024-10-14T16:20:35.186Z"
   },
   {
    "duration": 27,
    "start_time": "2024-10-14T16:20:35.820Z"
   },
   {
    "duration": 12,
    "start_time": "2024-10-14T16:20:36.232Z"
   },
   {
    "duration": 8,
    "start_time": "2024-10-14T16:20:36.431Z"
   },
   {
    "duration": 22,
    "start_time": "2024-10-14T16:20:37.248Z"
   },
   {
    "duration": 17,
    "start_time": "2024-10-14T16:20:37.928Z"
   },
   {
    "duration": 13,
    "start_time": "2024-10-14T16:20:38.383Z"
   },
   {
    "duration": 8,
    "start_time": "2024-10-14T16:20:38.614Z"
   },
   {
    "duration": 41,
    "start_time": "2024-10-14T16:20:39.831Z"
   },
   {
    "duration": 20,
    "start_time": "2024-10-14T16:20:40.650Z"
   },
   {
    "duration": 12,
    "start_time": "2024-10-14T16:20:42.137Z"
   },
   {
    "duration": 17,
    "start_time": "2024-10-14T17:14:06.235Z"
   },
   {
    "duration": 11,
    "start_time": "2024-10-14T17:14:07.572Z"
   },
   {
    "duration": 12,
    "start_time": "2024-10-14T17:14:08.045Z"
   },
   {
    "duration": 14,
    "start_time": "2024-10-14T17:14:08.597Z"
   },
   {
    "duration": 19,
    "start_time": "2024-10-14T17:33:10.926Z"
   },
   {
    "duration": 12,
    "start_time": "2024-10-14T18:04:25.947Z"
   },
   {
    "duration": 10,
    "start_time": "2024-10-14T18:17:41.944Z"
   },
   {
    "duration": 17,
    "start_time": "2024-10-14T18:18:47.016Z"
   },
   {
    "duration": 11,
    "start_time": "2024-10-14T18:19:17.958Z"
   },
   {
    "duration": 23,
    "start_time": "2024-10-14T18:19:34.123Z"
   },
   {
    "duration": 25,
    "start_time": "2024-10-14T18:20:56.840Z"
   },
   {
    "duration": 2,
    "start_time": "2024-10-14T18:21:41.836Z"
   },
   {
    "duration": 19,
    "start_time": "2024-10-14T18:21:48.604Z"
   },
   {
    "duration": 18,
    "start_time": "2024-10-14T18:24:38.307Z"
   },
   {
    "duration": 25,
    "start_time": "2024-10-14T18:37:33.327Z"
   },
   {
    "duration": 2478,
    "start_time": "2024-10-15T16:03:25.498Z"
   },
   {
    "duration": 209,
    "start_time": "2024-10-15T16:03:27.978Z"
   },
   {
    "duration": 10,
    "start_time": "2024-10-15T16:03:28.188Z"
   },
   {
    "duration": 6,
    "start_time": "2024-10-15T16:03:28.200Z"
   },
   {
    "duration": 7,
    "start_time": "2024-10-15T16:03:28.207Z"
   },
   {
    "duration": 5,
    "start_time": "2024-10-15T16:03:28.621Z"
   },
   {
    "duration": 9,
    "start_time": "2024-10-15T16:03:29.121Z"
   },
   {
    "duration": 12,
    "start_time": "2024-10-15T16:03:29.356Z"
   },
   {
    "duration": 13,
    "start_time": "2024-10-15T16:03:30.418Z"
   },
   {
    "duration": 13,
    "start_time": "2024-10-15T16:03:31.302Z"
   },
   {
    "duration": 16,
    "start_time": "2024-10-15T16:03:32.211Z"
   },
   {
    "duration": 7,
    "start_time": "2024-10-15T16:03:32.477Z"
   },
   {
    "duration": 40,
    "start_time": "2024-10-15T16:03:33.418Z"
   },
   {
    "duration": 26,
    "start_time": "2024-10-15T16:03:34.152Z"
   },
   {
    "duration": 12,
    "start_time": "2024-10-15T16:03:34.664Z"
   },
   {
    "duration": 5,
    "start_time": "2024-10-15T16:03:34.933Z"
   },
   {
    "duration": 21,
    "start_time": "2024-10-15T16:03:36.163Z"
   },
   {
    "duration": 18,
    "start_time": "2024-10-15T16:03:37.007Z"
   },
   {
    "duration": 13,
    "start_time": "2024-10-15T16:03:37.660Z"
   },
   {
    "duration": 7,
    "start_time": "2024-10-15T16:03:37.894Z"
   },
   {
    "duration": 41,
    "start_time": "2024-10-15T16:03:39.256Z"
   },
   {
    "duration": 20,
    "start_time": "2024-10-15T16:03:40.358Z"
   },
   {
    "duration": 11,
    "start_time": "2024-10-15T16:03:41.846Z"
   },
   {
    "duration": 18,
    "start_time": "2024-10-15T16:03:43.711Z"
   },
   {
    "duration": 11,
    "start_time": "2024-10-15T16:03:44.092Z"
   },
   {
    "duration": 12,
    "start_time": "2024-10-15T16:03:44.470Z"
   },
   {
    "duration": 15,
    "start_time": "2024-10-15T16:03:44.747Z"
   },
   {
    "duration": 19,
    "start_time": "2024-10-15T16:03:45.461Z"
   },
   {
    "duration": 22,
    "start_time": "2024-10-15T16:03:45.820Z"
   },
   {
    "duration": 9,
    "start_time": "2024-10-15T16:21:21.635Z"
   },
   {
    "duration": 110,
    "start_time": "2024-10-15T17:23:33.345Z"
   },
   {
    "duration": 87,
    "start_time": "2024-10-15T17:28:01.909Z"
   },
   {
    "duration": 85,
    "start_time": "2024-10-15T17:32:32.120Z"
   },
   {
    "duration": 82,
    "start_time": "2024-10-15T17:39:35.991Z"
   },
   {
    "duration": 2626,
    "start_time": "2024-10-16T15:46:01.208Z"
   },
   {
    "duration": 224,
    "start_time": "2024-10-16T15:46:03.837Z"
   },
   {
    "duration": 9,
    "start_time": "2024-10-16T15:46:04.063Z"
   },
   {
    "duration": 5,
    "start_time": "2024-10-16T15:46:04.075Z"
   },
   {
    "duration": 7,
    "start_time": "2024-10-16T15:46:04.083Z"
   },
   {
    "duration": 4,
    "start_time": "2024-10-16T15:46:04.219Z"
   },
   {
    "duration": 9,
    "start_time": "2024-10-16T15:46:04.491Z"
   },
   {
    "duration": 10,
    "start_time": "2024-10-16T15:46:04.679Z"
   },
   {
    "duration": 13,
    "start_time": "2024-10-16T15:46:05.399Z"
   },
   {
    "duration": 13,
    "start_time": "2024-10-16T15:46:06.029Z"
   },
   {
    "duration": 17,
    "start_time": "2024-10-16T15:46:06.460Z"
   },
   {
    "duration": 8,
    "start_time": "2024-10-16T15:46:06.665Z"
   },
   {
    "duration": 42,
    "start_time": "2024-10-16T15:46:07.509Z"
   },
   {
    "duration": 27,
    "start_time": "2024-10-16T15:46:08.227Z"
   },
   {
    "duration": 13,
    "start_time": "2024-10-16T15:46:08.692Z"
   },
   {
    "duration": 7,
    "start_time": "2024-10-16T15:46:08.942Z"
   },
   {
    "duration": 29,
    "start_time": "2024-10-16T15:46:09.754Z"
   },
   {
    "duration": 19,
    "start_time": "2024-10-16T15:46:10.366Z"
   },
   {
    "duration": 17,
    "start_time": "2024-10-16T15:46:10.825Z"
   },
   {
    "duration": 7,
    "start_time": "2024-10-16T15:46:11.007Z"
   },
   {
    "duration": 42,
    "start_time": "2024-10-16T15:46:12.479Z"
   },
   {
    "duration": 23,
    "start_time": "2024-10-16T15:46:13.625Z"
   },
   {
    "duration": 10,
    "start_time": "2024-10-16T15:46:14.709Z"
   },
   {
    "duration": 19,
    "start_time": "2024-10-16T15:46:15.246Z"
   },
   {
    "duration": 13,
    "start_time": "2024-10-16T15:46:15.507Z"
   },
   {
    "duration": 14,
    "start_time": "2024-10-16T15:46:15.864Z"
   },
   {
    "duration": 15,
    "start_time": "2024-10-16T15:46:16.107Z"
   },
   {
    "duration": 18,
    "start_time": "2024-10-16T15:46:17.045Z"
   },
   {
    "duration": 21,
    "start_time": "2024-10-16T15:46:17.414Z"
   },
   {
    "duration": 111,
    "start_time": "2024-10-16T15:46:21.332Z"
   },
   {
    "duration": 196,
    "start_time": "2024-10-16T15:55:38.996Z"
   },
   {
    "duration": 166,
    "start_time": "2024-10-16T16:23:25.197Z"
   },
   {
    "duration": 190,
    "start_time": "2024-10-16T16:24:30.311Z"
   },
   {
    "duration": 178,
    "start_time": "2024-10-16T16:25:36.938Z"
   },
   {
    "duration": 164,
    "start_time": "2024-10-16T16:25:48.804Z"
   },
   {
    "duration": 4,
    "start_time": "2024-10-16T17:13:19.411Z"
   },
   {
    "duration": 4,
    "start_time": "2024-10-16T17:14:10.210Z"
   },
   {
    "duration": 303,
    "start_time": "2024-10-16T17:24:00.547Z"
   },
   {
    "duration": 71,
    "start_time": "2024-10-16T17:24:43.258Z"
   },
   {
    "duration": 4,
    "start_time": "2024-10-16T17:24:58.496Z"
   },
   {
    "duration": 87,
    "start_time": "2024-10-16T17:25:05.257Z"
   },
   {
    "duration": 87,
    "start_time": "2024-10-16T17:29:17.370Z"
   },
   {
    "duration": 79,
    "start_time": "2024-10-16T17:29:37.466Z"
   },
   {
    "duration": 20,
    "start_time": "2024-10-16T17:38:27.254Z"
   },
   {
    "duration": 9,
    "start_time": "2024-10-16T17:39:08.234Z"
   },
   {
    "duration": 159,
    "start_time": "2024-10-16T18:46:29.054Z"
   },
   {
    "duration": 2458,
    "start_time": "2024-10-16T18:46:53.496Z"
   },
   {
    "duration": 222,
    "start_time": "2024-10-16T18:46:55.956Z"
   },
   {
    "duration": 8,
    "start_time": "2024-10-16T18:46:56.180Z"
   },
   {
    "duration": 6,
    "start_time": "2024-10-16T18:46:56.190Z"
   },
   {
    "duration": 7,
    "start_time": "2024-10-16T18:46:56.198Z"
   },
   {
    "duration": 3,
    "start_time": "2024-10-16T18:46:56.207Z"
   },
   {
    "duration": 12,
    "start_time": "2024-10-16T18:46:56.212Z"
   },
   {
    "duration": 9,
    "start_time": "2024-10-16T18:46:56.226Z"
   },
   {
    "duration": 12,
    "start_time": "2024-10-16T18:46:56.593Z"
   },
   {
    "duration": 11,
    "start_time": "2024-10-16T18:46:57.073Z"
   },
   {
    "duration": 15,
    "start_time": "2024-10-16T18:46:57.402Z"
   },
   {
    "duration": 18,
    "start_time": "2024-10-16T18:46:57.520Z"
   },
   {
    "duration": 40,
    "start_time": "2024-10-16T18:46:58.169Z"
   },
   {
    "duration": 25,
    "start_time": "2024-10-16T18:46:58.628Z"
   },
   {
    "duration": 12,
    "start_time": "2024-10-16T18:46:59.144Z"
   },
   {
    "duration": 6,
    "start_time": "2024-10-16T18:46:59.293Z"
   },
   {
    "duration": 22,
    "start_time": "2024-10-16T18:46:59.968Z"
   },
   {
    "duration": 17,
    "start_time": "2024-10-16T18:47:00.465Z"
   },
   {
    "duration": 14,
    "start_time": "2024-10-16T18:47:00.811Z"
   },
   {
    "duration": 7,
    "start_time": "2024-10-16T18:47:00.985Z"
   },
   {
    "duration": 40,
    "start_time": "2024-10-16T18:47:01.649Z"
   },
   {
    "duration": 21,
    "start_time": "2024-10-16T18:47:02.110Z"
   },
   {
    "duration": 11,
    "start_time": "2024-10-16T18:47:02.589Z"
   },
   {
    "duration": 18,
    "start_time": "2024-10-16T18:47:02.915Z"
   },
   {
    "duration": 14,
    "start_time": "2024-10-16T18:47:03.070Z"
   },
   {
    "duration": 13,
    "start_time": "2024-10-16T18:47:03.230Z"
   },
   {
    "duration": 14,
    "start_time": "2024-10-16T18:47:03.392Z"
   },
   {
    "duration": 19,
    "start_time": "2024-10-16T18:47:03.755Z"
   },
   {
    "duration": 20,
    "start_time": "2024-10-16T18:47:03.910Z"
   },
   {
    "duration": 80,
    "start_time": "2024-10-16T18:47:04.258Z"
   },
   {
    "duration": 183,
    "start_time": "2024-10-16T18:47:04.934Z"
   },
   {
    "duration": 171,
    "start_time": "2024-10-16T18:47:05.126Z"
   },
   {
    "duration": 5,
    "start_time": "2024-10-16T18:47:05.467Z"
   },
   {
    "duration": 77,
    "start_time": "2024-10-16T18:47:05.654Z"
   },
   {
    "duration": 176,
    "start_time": "2024-10-16T18:47:07.284Z"
   },
   {
    "duration": 211,
    "start_time": "2024-10-16T18:59:27.374Z"
   },
   {
    "duration": 274,
    "start_time": "2024-10-16T19:00:07.259Z"
   },
   {
    "duration": 154,
    "start_time": "2024-10-16T19:00:24.774Z"
   },
   {
    "duration": 177,
    "start_time": "2024-10-16T19:09:50.458Z"
   },
   {
    "duration": 7,
    "start_time": "2024-10-16T19:10:47.777Z"
   },
   {
    "duration": 206,
    "start_time": "2024-10-16T19:11:08.544Z"
   },
   {
    "duration": 178,
    "start_time": "2024-10-16T19:18:12.987Z"
   },
   {
    "duration": 84,
    "start_time": "2024-10-16T19:18:21.994Z"
   },
   {
    "duration": 213,
    "start_time": "2024-10-16T19:19:12.973Z"
   },
   {
    "duration": 180,
    "start_time": "2024-10-16T19:20:32.811Z"
   },
   {
    "duration": 5,
    "start_time": "2024-10-16T19:22:28.339Z"
   },
   {
    "duration": 258,
    "start_time": "2024-10-16T19:22:46.481Z"
   },
   {
    "duration": 187,
    "start_time": "2024-10-16T19:23:30.585Z"
   },
   {
    "duration": 84,
    "start_time": "2024-10-16T19:23:48.187Z"
   },
   {
    "duration": 80,
    "start_time": "2024-10-16T19:25:14.921Z"
   },
   {
    "duration": 14,
    "start_time": "2024-10-16T19:41:19.625Z"
   },
   {
    "duration": 181,
    "start_time": "2024-10-16T19:41:33.762Z"
   },
   {
    "duration": 156,
    "start_time": "2024-10-16T19:41:38.616Z"
   },
   {
    "duration": 409,
    "start_time": "2024-10-16T19:42:46.640Z"
   },
   {
    "duration": 75,
    "start_time": "2024-10-16T19:43:35.653Z"
   },
   {
    "duration": 74,
    "start_time": "2024-10-16T19:44:43.411Z"
   },
   {
    "duration": 99,
    "start_time": "2024-10-16T19:44:55.436Z"
   },
   {
    "duration": 81,
    "start_time": "2024-10-16T19:45:07.944Z"
   },
   {
    "duration": 170,
    "start_time": "2024-10-17T16:58:53.643Z"
   },
   {
    "duration": 2557,
    "start_time": "2024-10-17T16:59:12.994Z"
   },
   {
    "duration": 205,
    "start_time": "2024-10-17T16:59:15.553Z"
   },
   {
    "duration": 11,
    "start_time": "2024-10-17T16:59:15.759Z"
   },
   {
    "duration": 6,
    "start_time": "2024-10-17T16:59:15.772Z"
   },
   {
    "duration": 6,
    "start_time": "2024-10-17T16:59:15.781Z"
   },
   {
    "duration": 4,
    "start_time": "2024-10-17T16:59:16.157Z"
   },
   {
    "duration": 9,
    "start_time": "2024-10-17T16:59:16.574Z"
   },
   {
    "duration": 12,
    "start_time": "2024-10-17T16:59:16.781Z"
   },
   {
    "duration": 13,
    "start_time": "2024-10-17T16:59:17.654Z"
   },
   {
    "duration": 12,
    "start_time": "2024-10-17T16:59:18.306Z"
   },
   {
    "duration": 16,
    "start_time": "2024-10-17T16:59:18.723Z"
   },
   {
    "duration": 9,
    "start_time": "2024-10-17T16:59:18.948Z"
   },
   {
    "duration": 42,
    "start_time": "2024-10-17T16:59:19.842Z"
   },
   {
    "duration": 27,
    "start_time": "2024-10-17T16:59:20.496Z"
   },
   {
    "duration": 12,
    "start_time": "2024-10-17T16:59:20.933Z"
   },
   {
    "duration": 6,
    "start_time": "2024-10-17T16:59:21.161Z"
   },
   {
    "duration": 22,
    "start_time": "2024-10-17T16:59:22.050Z"
   },
   {
    "duration": 18,
    "start_time": "2024-10-17T16:59:22.691Z"
   },
   {
    "duration": 14,
    "start_time": "2024-10-17T16:59:23.109Z"
   },
   {
    "duration": 7,
    "start_time": "2024-10-17T16:59:23.330Z"
   },
   {
    "duration": 49,
    "start_time": "2024-10-17T16:59:24.223Z"
   },
   {
    "duration": 22,
    "start_time": "2024-10-17T16:59:24.915Z"
   },
   {
    "duration": 11,
    "start_time": "2024-10-17T16:59:25.543Z"
   },
   {
    "duration": 21,
    "start_time": "2024-10-17T16:59:26.008Z"
   },
   {
    "duration": 12,
    "start_time": "2024-10-17T16:59:26.195Z"
   },
   {
    "duration": 12,
    "start_time": "2024-10-17T16:59:26.410Z"
   },
   {
    "duration": 16,
    "start_time": "2024-10-17T16:59:26.656Z"
   },
   {
    "duration": 20,
    "start_time": "2024-10-17T16:59:27.104Z"
   },
   {
    "duration": 21,
    "start_time": "2024-10-17T16:59:27.325Z"
   },
   {
    "duration": 91,
    "start_time": "2024-10-17T16:59:27.829Z"
   },
   {
    "duration": 195,
    "start_time": "2024-10-17T16:59:28.781Z"
   },
   {
    "duration": 177,
    "start_time": "2024-10-17T16:59:29.001Z"
   },
   {
    "duration": 7,
    "start_time": "2024-10-17T16:59:29.446Z"
   },
   {
    "duration": 87,
    "start_time": "2024-10-17T16:59:29.702Z"
   },
   {
    "duration": 247,
    "start_time": "2024-10-17T16:59:30.457Z"
   },
   {
    "duration": 170,
    "start_time": "2024-10-17T16:59:30.706Z"
   },
   {
    "duration": 85,
    "start_time": "2024-10-17T16:59:30.993Z"
   },
   {
    "duration": 194,
    "start_time": "2024-10-17T16:59:31.761Z"
   },
   {
    "duration": 159,
    "start_time": "2024-10-17T16:59:32.011Z"
   },
   {
    "duration": 83,
    "start_time": "2024-10-17T16:59:32.270Z"
   },
   {
    "duration": 182,
    "start_time": "2024-10-17T16:59:33.677Z"
   },
   {
    "duration": 157,
    "start_time": "2024-10-17T16:59:34.179Z"
   },
   {
    "duration": 75,
    "start_time": "2024-10-17T16:59:34.672Z"
   },
   {
    "duration": 7,
    "start_time": "2024-10-17T16:59:36.937Z"
   },
   {
    "duration": 7,
    "start_time": "2024-10-17T17:34:41.764Z"
   },
   {
    "duration": 11,
    "start_time": "2024-10-17T17:44:34.990Z"
   },
   {
    "duration": 8,
    "start_time": "2024-10-17T17:49:34.473Z"
   },
   {
    "duration": 10,
    "start_time": "2024-10-17T17:49:35.809Z"
   },
   {
    "duration": 2535,
    "start_time": "2024-10-17T18:23:10.216Z"
   },
   {
    "duration": 203,
    "start_time": "2024-10-17T18:23:12.753Z"
   },
   {
    "duration": 9,
    "start_time": "2024-10-17T18:23:12.958Z"
   },
   {
    "duration": 6,
    "start_time": "2024-10-17T18:23:12.969Z"
   },
   {
    "duration": 6,
    "start_time": "2024-10-17T18:23:13.559Z"
   },
   {
    "duration": 4,
    "start_time": "2024-10-17T18:23:14.182Z"
   },
   {
    "duration": 9,
    "start_time": "2024-10-17T18:23:14.477Z"
   },
   {
    "duration": 11,
    "start_time": "2024-10-17T18:23:14.649Z"
   },
   {
    "duration": 12,
    "start_time": "2024-10-17T18:23:15.463Z"
   },
   {
    "duration": 11,
    "start_time": "2024-10-17T18:23:16.041Z"
   },
   {
    "duration": 15,
    "start_time": "2024-10-17T18:23:16.422Z"
   },
   {
    "duration": 6,
    "start_time": "2024-10-17T18:23:16.620Z"
   },
   {
    "duration": 40,
    "start_time": "2024-10-17T18:23:17.578Z"
   },
   {
    "duration": 25,
    "start_time": "2024-10-17T18:23:18.201Z"
   },
   {
    "duration": 12,
    "start_time": "2024-10-17T18:23:18.589Z"
   },
   {
    "duration": 5,
    "start_time": "2024-10-17T18:23:18.796Z"
   },
   {
    "duration": 21,
    "start_time": "2024-10-17T18:23:19.602Z"
   },
   {
    "duration": 16,
    "start_time": "2024-10-17T18:23:20.180Z"
   },
   {
    "duration": 13,
    "start_time": "2024-10-17T18:23:20.633Z"
   },
   {
    "duration": 5,
    "start_time": "2024-10-17T18:23:20.877Z"
   },
   {
    "duration": 39,
    "start_time": "2024-10-17T18:23:21.770Z"
   },
   {
    "duration": 21,
    "start_time": "2024-10-17T18:23:23.344Z"
   },
   {
    "duration": 10,
    "start_time": "2024-10-17T18:23:24.064Z"
   },
   {
    "duration": 18,
    "start_time": "2024-10-17T18:23:24.541Z"
   },
   {
    "duration": 11,
    "start_time": "2024-10-17T18:23:24.773Z"
   },
   {
    "duration": 12,
    "start_time": "2024-10-17T18:23:25.027Z"
   },
   {
    "duration": 14,
    "start_time": "2024-10-17T18:23:25.241Z"
   },
   {
    "duration": 18,
    "start_time": "2024-10-17T18:23:25.701Z"
   },
   {
    "duration": 20,
    "start_time": "2024-10-17T18:23:25.921Z"
   },
   {
    "duration": 87,
    "start_time": "2024-10-17T18:23:26.375Z"
   },
   {
    "duration": 187,
    "start_time": "2024-10-17T18:23:27.316Z"
   },
   {
    "duration": 185,
    "start_time": "2024-10-17T18:23:27.587Z"
   },
   {
    "duration": 6,
    "start_time": "2024-10-17T18:23:28.719Z"
   },
   {
    "duration": 77,
    "start_time": "2024-10-17T18:23:29.477Z"
   },
   {
    "duration": 178,
    "start_time": "2024-10-17T18:23:30.897Z"
   },
   {
    "duration": 210,
    "start_time": "2024-10-17T18:23:31.130Z"
   },
   {
    "duration": 81,
    "start_time": "2024-10-17T18:23:31.367Z"
   },
   {
    "duration": 186,
    "start_time": "2024-10-17T18:23:32.089Z"
   },
   {
    "duration": 153,
    "start_time": "2024-10-17T18:23:32.341Z"
   },
   {
    "duration": 78,
    "start_time": "2024-10-17T18:23:32.614Z"
   },
   {
    "duration": 174,
    "start_time": "2024-10-17T18:23:33.958Z"
   },
   {
    "duration": 153,
    "start_time": "2024-10-17T18:23:34.298Z"
   },
   {
    "duration": 72,
    "start_time": "2024-10-17T18:23:34.547Z"
   },
   {
    "duration": 6,
    "start_time": "2024-10-17T18:23:35.929Z"
   },
   {
    "duration": 10,
    "start_time": "2024-10-17T18:23:37.702Z"
   },
   {
    "duration": 183,
    "start_time": "2024-10-17T18:31:35.296Z"
   },
   {
    "duration": 7,
    "start_time": "2024-10-17T18:44:53.447Z"
   },
   {
    "duration": 6,
    "start_time": "2024-10-17T18:50:47.561Z"
   },
   {
    "duration": 9,
    "start_time": "2024-10-17T18:50:53.546Z"
   },
   {
    "duration": 793,
    "start_time": "2024-10-17T19:03:14.663Z"
   },
   {
    "duration": 157,
    "start_time": "2024-10-17T19:03:15.458Z"
   },
   {
    "duration": 12,
    "start_time": "2024-10-17T19:03:15.960Z"
   },
   {
    "duration": 6,
    "start_time": "2024-10-17T19:03:16.135Z"
   },
   {
    "duration": 7,
    "start_time": "2024-10-17T19:03:17.115Z"
   },
   {
    "duration": 3,
    "start_time": "2024-10-17T19:03:17.711Z"
   },
   {
    "duration": 9,
    "start_time": "2024-10-17T19:03:18.104Z"
   },
   {
    "duration": 10,
    "start_time": "2024-10-17T19:03:18.297Z"
   },
   {
    "duration": 12,
    "start_time": "2024-10-17T19:03:19.124Z"
   },
   {
    "duration": 11,
    "start_time": "2024-10-17T19:03:19.709Z"
   },
   {
    "duration": 16,
    "start_time": "2024-10-17T19:03:20.114Z"
   },
   {
    "duration": 7,
    "start_time": "2024-10-17T19:03:20.359Z"
   },
   {
    "duration": 39,
    "start_time": "2024-10-17T19:03:21.574Z"
   },
   {
    "duration": 25,
    "start_time": "2024-10-17T19:03:22.435Z"
   },
   {
    "duration": 12,
    "start_time": "2024-10-17T19:03:32.070Z"
   },
   {
    "duration": 7,
    "start_time": "2024-10-17T19:03:32.518Z"
   },
   {
    "duration": 22,
    "start_time": "2024-10-17T19:03:33.410Z"
   },
   {
    "duration": 17,
    "start_time": "2024-10-17T19:03:34.055Z"
   },
   {
    "duration": 14,
    "start_time": "2024-10-17T19:03:34.965Z"
   },
   {
    "duration": 6,
    "start_time": "2024-10-17T19:03:41.329Z"
   },
   {
    "duration": 40,
    "start_time": "2024-10-17T19:03:42.305Z"
   },
   {
    "duration": 21,
    "start_time": "2024-10-17T19:03:43.015Z"
   },
   {
    "duration": 10,
    "start_time": "2024-10-17T19:03:43.678Z"
   },
   {
    "duration": 18,
    "start_time": "2024-10-17T19:03:44.131Z"
   },
   {
    "duration": 11,
    "start_time": "2024-10-17T19:03:44.354Z"
   },
   {
    "duration": 12,
    "start_time": "2024-10-17T19:03:44.534Z"
   },
   {
    "duration": 14,
    "start_time": "2024-10-17T19:03:44.732Z"
   },
   {
    "duration": 18,
    "start_time": "2024-10-17T19:03:45.142Z"
   },
   {
    "duration": 20,
    "start_time": "2024-10-17T19:03:45.338Z"
   },
   {
    "duration": 94,
    "start_time": "2024-10-17T19:03:45.750Z"
   },
   {
    "duration": 225,
    "start_time": "2024-10-17T19:03:46.593Z"
   },
   {
    "duration": 179,
    "start_time": "2024-10-17T19:03:46.820Z"
   },
   {
    "duration": 6,
    "start_time": "2024-10-17T19:03:47.211Z"
   },
   {
    "duration": 81,
    "start_time": "2024-10-17T19:03:47.437Z"
   },
   {
    "duration": 178,
    "start_time": "2024-10-17T19:03:48.126Z"
   },
   {
    "duration": 170,
    "start_time": "2024-10-17T19:03:48.306Z"
   },
   {
    "duration": 83,
    "start_time": "2024-10-17T19:03:48.482Z"
   },
   {
    "duration": 182,
    "start_time": "2024-10-17T19:03:49.084Z"
   },
   {
    "duration": 151,
    "start_time": "2024-10-17T19:03:49.299Z"
   },
   {
    "duration": 77,
    "start_time": "2024-10-17T19:03:49.500Z"
   },
   {
    "duration": 171,
    "start_time": "2024-10-17T19:03:50.361Z"
   },
   {
    "duration": 155,
    "start_time": "2024-10-17T19:03:50.599Z"
   },
   {
    "duration": 134,
    "start_time": "2024-10-17T19:03:50.777Z"
   },
   {
    "duration": 6,
    "start_time": "2024-10-17T19:03:51.940Z"
   },
   {
    "duration": 11,
    "start_time": "2024-10-17T19:03:52.487Z"
   },
   {
    "duration": 9,
    "start_time": "2024-10-18T14:40:59.990Z"
   },
   {
    "duration": 2642,
    "start_time": "2024-10-18T16:30:27.924Z"
   },
   {
    "duration": 229,
    "start_time": "2024-10-18T16:30:30.569Z"
   },
   {
    "duration": 10,
    "start_time": "2024-10-18T16:30:30.799Z"
   },
   {
    "duration": 6,
    "start_time": "2024-10-18T16:30:30.811Z"
   },
   {
    "duration": 5,
    "start_time": "2024-10-18T16:30:30.819Z"
   },
   {
    "duration": 3,
    "start_time": "2024-10-18T16:30:30.839Z"
   },
   {
    "duration": 10,
    "start_time": "2024-10-18T16:30:31.232Z"
   },
   {
    "duration": 11,
    "start_time": "2024-10-18T16:30:31.436Z"
   },
   {
    "duration": 13,
    "start_time": "2024-10-18T16:30:32.221Z"
   },
   {
    "duration": 13,
    "start_time": "2024-10-18T16:30:32.839Z"
   },
   {
    "duration": 17,
    "start_time": "2024-10-18T16:30:33.243Z"
   },
   {
    "duration": 9,
    "start_time": "2024-10-18T16:30:33.426Z"
   },
   {
    "duration": 43,
    "start_time": "2024-10-18T16:30:34.236Z"
   },
   {
    "duration": 28,
    "start_time": "2024-10-18T16:30:35.299Z"
   },
   {
    "duration": 12,
    "start_time": "2024-10-18T16:30:35.712Z"
   },
   {
    "duration": 6,
    "start_time": "2024-10-18T16:30:35.933Z"
   },
   {
    "duration": 23,
    "start_time": "2024-10-18T16:30:36.780Z"
   },
   {
    "duration": 18,
    "start_time": "2024-10-18T16:30:37.403Z"
   },
   {
    "duration": 15,
    "start_time": "2024-10-18T16:30:37.793Z"
   },
   {
    "duration": 7,
    "start_time": "2024-10-18T16:30:37.980Z"
   },
   {
    "duration": 41,
    "start_time": "2024-10-18T16:30:38.789Z"
   },
   {
    "duration": 21,
    "start_time": "2024-10-18T16:30:39.345Z"
   },
   {
    "duration": 9,
    "start_time": "2024-10-18T16:30:40.184Z"
   },
   {
    "duration": 19,
    "start_time": "2024-10-18T16:30:40.592Z"
   },
   {
    "duration": 13,
    "start_time": "2024-10-18T16:30:40.812Z"
   },
   {
    "duration": 13,
    "start_time": "2024-10-18T16:30:41.033Z"
   },
   {
    "duration": 16,
    "start_time": "2024-10-18T16:30:41.233Z"
   },
   {
    "duration": 19,
    "start_time": "2024-10-18T16:30:41.898Z"
   },
   {
    "duration": 22,
    "start_time": "2024-10-18T16:30:42.342Z"
   },
   {
    "duration": 85,
    "start_time": "2024-10-18T16:30:43.008Z"
   },
   {
    "duration": 189,
    "start_time": "2024-10-18T16:30:44.077Z"
   },
   {
    "duration": 164,
    "start_time": "2024-10-18T16:30:44.302Z"
   },
   {
    "duration": 6,
    "start_time": "2024-10-18T16:30:44.996Z"
   },
   {
    "duration": 78,
    "start_time": "2024-10-18T16:30:45.219Z"
   },
   {
    "duration": 248,
    "start_time": "2024-10-18T16:30:45.975Z"
   },
   {
    "duration": 163,
    "start_time": "2024-10-18T16:30:46.332Z"
   },
   {
    "duration": 83,
    "start_time": "2024-10-18T16:30:46.664Z"
   },
   {
    "duration": 190,
    "start_time": "2024-10-18T16:30:47.506Z"
   },
   {
    "duration": 154,
    "start_time": "2024-10-18T16:30:47.713Z"
   },
   {
    "duration": 80,
    "start_time": "2024-10-18T16:30:47.934Z"
   },
   {
    "duration": 185,
    "start_time": "2024-10-18T16:30:48.760Z"
   },
   {
    "duration": 156,
    "start_time": "2024-10-18T16:30:48.980Z"
   },
   {
    "duration": 73,
    "start_time": "2024-10-18T16:30:49.401Z"
   },
   {
    "duration": 8,
    "start_time": "2024-10-18T16:30:50.300Z"
   },
   {
    "duration": 10,
    "start_time": "2024-10-18T16:30:50.983Z"
   },
   {
    "duration": 348,
    "start_time": "2024-10-18T16:37:10.450Z"
   },
   {
    "duration": 16,
    "start_time": "2024-10-18T16:43:55.712Z"
   },
   {
    "duration": 14,
    "start_time": "2024-10-18T16:44:16.487Z"
   },
   {
    "duration": 14,
    "start_time": "2024-10-18T16:45:53.810Z"
   },
   {
    "duration": 19,
    "start_time": "2024-10-18T16:53:45.414Z"
   },
   {
    "duration": 646,
    "start_time": "2024-10-18T16:53:51.895Z"
   },
   {
    "duration": 124,
    "start_time": "2024-10-18T16:55:08.167Z"
   },
   {
    "duration": 85,
    "start_time": "2024-10-18T16:55:25.038Z"
   },
   {
    "duration": 89,
    "start_time": "2024-10-18T16:56:00.399Z"
   },
   {
    "duration": 196,
    "start_time": "2024-10-18T17:01:00.154Z"
   },
   {
    "duration": 181,
    "start_time": "2024-10-18T17:04:25.801Z"
   },
   {
    "duration": 181,
    "start_time": "2024-10-18T17:04:43.270Z"
   },
   {
    "duration": 182,
    "start_time": "2024-10-18T17:04:54.091Z"
   },
   {
    "duration": 159,
    "start_time": "2024-10-18T17:10:15.117Z"
   },
   {
    "duration": 161,
    "start_time": "2024-10-18T17:11:26.833Z"
   },
   {
    "duration": 161,
    "start_time": "2024-10-18T17:12:19.371Z"
   },
   {
    "duration": 180,
    "start_time": "2024-10-18T17:14:57.426Z"
   },
   {
    "duration": 185,
    "start_time": "2024-10-18T17:21:11.955Z"
   },
   {
    "duration": 177,
    "start_time": "2024-10-18T17:21:21.669Z"
   },
   {
    "duration": 14,
    "start_time": "2024-10-18T17:23:18.274Z"
   },
   {
    "duration": 5,
    "start_time": "2024-10-18T17:23:55.097Z"
   },
   {
    "duration": 13,
    "start_time": "2024-10-18T17:23:58.402Z"
   },
   {
    "duration": 82,
    "start_time": "2024-10-18T17:24:42.393Z"
   },
   {
    "duration": 7,
    "start_time": "2024-10-18T17:25:52.196Z"
   },
   {
    "duration": 6,
    "start_time": "2024-10-18T17:28:40.841Z"
   },
   {
    "duration": 81,
    "start_time": "2024-10-18T17:29:42.476Z"
   },
   {
    "duration": 85,
    "start_time": "2024-10-18T17:30:25.510Z"
   },
   {
    "duration": 86,
    "start_time": "2024-10-18T17:30:35.357Z"
   },
   {
    "duration": 176,
    "start_time": "2024-10-18T17:32:29.193Z"
   },
   {
    "duration": 167,
    "start_time": "2024-10-18T17:32:55.991Z"
   },
   {
    "duration": 161,
    "start_time": "2024-10-18T17:33:31.974Z"
   },
   {
    "duration": 347,
    "start_time": "2024-10-18T17:34:59.437Z"
   },
   {
    "duration": 168,
    "start_time": "2024-10-18T17:36:31.681Z"
   },
   {
    "duration": 11,
    "start_time": "2024-10-18T17:39:13.826Z"
   },
   {
    "duration": 180,
    "start_time": "2024-10-18T17:39:34.250Z"
   },
   {
    "duration": 6,
    "start_time": "2024-10-18T17:39:41.941Z"
   },
   {
    "duration": 173,
    "start_time": "2024-10-18T17:40:13.283Z"
   },
   {
    "duration": 81,
    "start_time": "2024-10-18T17:40:26.370Z"
   },
   {
    "duration": 78,
    "start_time": "2024-10-18T17:40:42.566Z"
   },
   {
    "duration": 117,
    "start_time": "2024-10-18T17:41:07.123Z"
   },
   {
    "duration": 183,
    "start_time": "2024-10-18T17:41:24.170Z"
   },
   {
    "duration": 178,
    "start_time": "2024-10-18T17:41:38.848Z"
   },
   {
    "duration": 173,
    "start_time": "2024-10-18T17:42:12.634Z"
   },
   {
    "duration": 88,
    "start_time": "2024-10-18T17:42:45.811Z"
   },
   {
    "duration": 173,
    "start_time": "2024-10-18T17:43:17.323Z"
   },
   {
    "duration": 172,
    "start_time": "2024-10-18T17:43:22.484Z"
   },
   {
    "duration": 181,
    "start_time": "2024-10-18T17:44:53.002Z"
   },
   {
    "duration": 169,
    "start_time": "2024-10-18T17:44:59.221Z"
   },
   {
    "duration": 346,
    "start_time": "2024-10-18T17:46:02.940Z"
   },
   {
    "duration": 165,
    "start_time": "2024-10-18T17:46:07.373Z"
   },
   {
    "duration": 170,
    "start_time": "2024-10-18T17:46:14.466Z"
   },
   {
    "duration": 77,
    "start_time": "2024-10-18T17:46:16.760Z"
   },
   {
    "duration": 177,
    "start_time": "2024-10-18T17:46:24.436Z"
   },
   {
    "duration": 80,
    "start_time": "2024-10-18T17:46:26.968Z"
   },
   {
    "duration": 186,
    "start_time": "2024-10-18T17:46:34.373Z"
   },
   {
    "duration": 168,
    "start_time": "2024-10-18T17:46:51.918Z"
   },
   {
    "duration": 75,
    "start_time": "2024-10-18T17:48:30.914Z"
   },
   {
    "duration": 81,
    "start_time": "2024-10-18T17:48:44.958Z"
   },
   {
    "duration": 180,
    "start_time": "2024-10-18T17:51:02.300Z"
   },
   {
    "duration": 173,
    "start_time": "2024-10-18T17:51:06.546Z"
   },
   {
    "duration": 180,
    "start_time": "2024-10-18T17:51:11.828Z"
   },
   {
    "duration": 174,
    "start_time": "2024-10-18T17:51:16.659Z"
   },
   {
    "duration": 169,
    "start_time": "2024-10-18T17:51:20.952Z"
   },
   {
    "duration": 75,
    "start_time": "2024-10-18T17:51:49.781Z"
   },
   {
    "duration": 189,
    "start_time": "2024-10-18T17:52:53.468Z"
   },
   {
    "duration": 168,
    "start_time": "2024-10-18T17:52:58.697Z"
   },
   {
    "duration": 178,
    "start_time": "2024-10-18T17:53:05.624Z"
   },
   {
    "duration": 207,
    "start_time": "2024-10-18T17:53:10.290Z"
   },
   {
    "duration": 366,
    "start_time": "2024-10-18T17:53:14.711Z"
   },
   {
    "duration": 180,
    "start_time": "2024-10-18T17:54:03.359Z"
   },
   {
    "duration": 198,
    "start_time": "2024-10-18T17:54:05.972Z"
   },
   {
    "duration": 204,
    "start_time": "2024-10-18T17:54:21.220Z"
   },
   {
    "duration": 195,
    "start_time": "2024-10-18T17:54:29.290Z"
   },
   {
    "duration": 22,
    "start_time": "2024-10-18T17:54:58.589Z"
   },
   {
    "duration": 184,
    "start_time": "2024-10-18T17:55:43.252Z"
   },
   {
    "duration": 166,
    "start_time": "2024-10-18T17:55:44.147Z"
   },
   {
    "duration": 875,
    "start_time": "2024-10-18T17:55:59.646Z"
   },
   {
    "duration": 153,
    "start_time": "2024-10-18T17:56:00.667Z"
   },
   {
    "duration": 9,
    "start_time": "2024-10-18T17:56:02.477Z"
   },
   {
    "duration": 7,
    "start_time": "2024-10-18T17:56:02.660Z"
   },
   {
    "duration": 6,
    "start_time": "2024-10-18T17:56:03.414Z"
   },
   {
    "duration": 3,
    "start_time": "2024-10-18T17:56:04.155Z"
   },
   {
    "duration": 9,
    "start_time": "2024-10-18T17:56:04.558Z"
   },
   {
    "duration": 10,
    "start_time": "2024-10-18T17:56:05.142Z"
   },
   {
    "duration": 13,
    "start_time": "2024-10-18T17:56:05.996Z"
   },
   {
    "duration": 12,
    "start_time": "2024-10-18T17:56:06.719Z"
   },
   {
    "duration": 15,
    "start_time": "2024-10-18T17:56:07.165Z"
   },
   {
    "duration": 8,
    "start_time": "2024-10-18T17:56:07.381Z"
   },
   {
    "duration": 44,
    "start_time": "2024-10-18T17:56:08.213Z"
   },
   {
    "duration": 26,
    "start_time": "2024-10-18T17:56:09.374Z"
   },
   {
    "duration": 13,
    "start_time": "2024-10-18T17:56:09.771Z"
   },
   {
    "duration": 6,
    "start_time": "2024-10-18T17:56:10.020Z"
   },
   {
    "duration": 21,
    "start_time": "2024-10-18T17:56:10.865Z"
   },
   {
    "duration": 19,
    "start_time": "2024-10-18T17:56:11.503Z"
   },
   {
    "duration": 20,
    "start_time": "2024-10-18T17:56:11.932Z"
   },
   {
    "duration": 7,
    "start_time": "2024-10-18T17:56:12.121Z"
   },
   {
    "duration": 49,
    "start_time": "2024-10-18T17:56:12.960Z"
   },
   {
    "duration": 21,
    "start_time": "2024-10-18T17:56:13.566Z"
   },
   {
    "duration": 11,
    "start_time": "2024-10-18T17:56:14.385Z"
   },
   {
    "duration": 18,
    "start_time": "2024-10-18T17:56:14.829Z"
   },
   {
    "duration": 16,
    "start_time": "2024-10-18T17:56:15.044Z"
   },
   {
    "duration": 12,
    "start_time": "2024-10-18T17:56:15.254Z"
   },
   {
    "duration": 16,
    "start_time": "2024-10-18T17:56:15.481Z"
   },
   {
    "duration": 19,
    "start_time": "2024-10-18T17:56:16.135Z"
   },
   {
    "duration": 21,
    "start_time": "2024-10-18T17:56:16.584Z"
   },
   {
    "duration": 84,
    "start_time": "2024-10-18T17:56:17.266Z"
   },
   {
    "duration": 239,
    "start_time": "2024-10-18T17:56:18.382Z"
   },
   {
    "duration": 177,
    "start_time": "2024-10-18T17:56:18.623Z"
   },
   {
    "duration": 6,
    "start_time": "2024-10-18T17:56:19.251Z"
   },
   {
    "duration": 83,
    "start_time": "2024-10-18T17:56:19.490Z"
   },
   {
    "duration": 178,
    "start_time": "2024-10-18T17:56:20.202Z"
   },
   {
    "duration": 174,
    "start_time": "2024-10-18T17:56:20.435Z"
   },
   {
    "duration": 79,
    "start_time": "2024-10-18T17:56:20.671Z"
   },
   {
    "duration": 187,
    "start_time": "2024-10-18T17:56:21.812Z"
   },
   {
    "duration": 172,
    "start_time": "2024-10-18T17:56:22.067Z"
   },
   {
    "duration": 80,
    "start_time": "2024-10-18T17:56:22.369Z"
   },
   {
    "duration": 173,
    "start_time": "2024-10-18T17:56:23.622Z"
   },
   {
    "duration": 177,
    "start_time": "2024-10-18T17:56:24.499Z"
   },
   {
    "duration": 152,
    "start_time": "2024-10-18T17:56:26.003Z"
   },
   {
    "duration": 7,
    "start_time": "2024-10-18T17:56:30.627Z"
   },
   {
    "duration": 13,
    "start_time": "2024-10-18T17:56:32.335Z"
   },
   {
    "duration": 9,
    "start_time": "2024-10-18T18:00:47.485Z"
   },
   {
    "duration": 8,
    "start_time": "2024-10-18T18:01:17.946Z"
   },
   {
    "duration": 9,
    "start_time": "2024-10-18T18:03:27.643Z"
   },
   {
    "duration": 10,
    "start_time": "2024-10-18T18:05:02.591Z"
   },
   {
    "duration": 9,
    "start_time": "2024-10-18T18:05:15.531Z"
   },
   {
    "duration": 9,
    "start_time": "2024-10-18T18:11:10.522Z"
   },
   {
    "duration": 82,
    "start_time": "2024-10-18T18:14:58.369Z"
   },
   {
    "duration": 844,
    "start_time": "2024-10-18T18:15:14.274Z"
   },
   {
    "duration": 162,
    "start_time": "2024-10-18T18:15:15.120Z"
   },
   {
    "duration": 11,
    "start_time": "2024-10-18T18:15:16.095Z"
   },
   {
    "duration": 6,
    "start_time": "2024-10-18T18:15:16.288Z"
   },
   {
    "duration": 5,
    "start_time": "2024-10-18T18:15:17.072Z"
   },
   {
    "duration": 4,
    "start_time": "2024-10-18T18:15:17.860Z"
   },
   {
    "duration": 9,
    "start_time": "2024-10-18T18:15:18.281Z"
   },
   {
    "duration": 11,
    "start_time": "2024-10-18T18:15:18.480Z"
   },
   {
    "duration": 13,
    "start_time": "2024-10-18T18:15:19.224Z"
   },
   {
    "duration": 11,
    "start_time": "2024-10-18T18:15:19.835Z"
   },
   {
    "duration": 17,
    "start_time": "2024-10-18T18:15:20.226Z"
   },
   {
    "duration": 8,
    "start_time": "2024-10-18T18:15:20.398Z"
   },
   {
    "duration": 42,
    "start_time": "2024-10-18T18:15:21.142Z"
   },
   {
    "duration": 26,
    "start_time": "2024-10-18T18:15:22.398Z"
   },
   {
    "duration": 14,
    "start_time": "2024-10-18T18:15:22.801Z"
   },
   {
    "duration": 6,
    "start_time": "2024-10-18T18:15:22.991Z"
   },
   {
    "duration": 22,
    "start_time": "2024-10-18T18:15:23.722Z"
   },
   {
    "duration": 20,
    "start_time": "2024-10-18T18:15:24.219Z"
   },
   {
    "duration": 13,
    "start_time": "2024-10-18T18:15:24.580Z"
   },
   {
    "duration": 7,
    "start_time": "2024-10-18T18:15:24.755Z"
   },
   {
    "duration": 43,
    "start_time": "2024-10-18T18:15:25.500Z"
   },
   {
    "duration": 22,
    "start_time": "2024-10-18T18:15:26.049Z"
   },
   {
    "duration": 11,
    "start_time": "2024-10-18T18:15:26.805Z"
   },
   {
    "duration": 18,
    "start_time": "2024-10-18T18:15:27.206Z"
   },
   {
    "duration": 13,
    "start_time": "2024-10-18T18:15:27.390Z"
   },
   {
    "duration": 13,
    "start_time": "2024-10-18T18:15:27.552Z"
   },
   {
    "duration": 17,
    "start_time": "2024-10-18T18:15:27.748Z"
   },
   {
    "duration": 19,
    "start_time": "2024-10-18T18:15:28.389Z"
   },
   {
    "duration": 21,
    "start_time": "2024-10-18T18:15:28.887Z"
   },
   {
    "duration": 83,
    "start_time": "2024-10-18T18:15:29.493Z"
   },
   {
    "duration": 244,
    "start_time": "2024-10-18T18:15:30.443Z"
   },
   {
    "duration": 179,
    "start_time": "2024-10-18T18:15:30.690Z"
   },
   {
    "duration": 7,
    "start_time": "2024-10-18T18:15:31.221Z"
   },
   {
    "duration": 86,
    "start_time": "2024-10-18T18:15:31.427Z"
   },
   {
    "duration": 179,
    "start_time": "2024-10-18T18:15:32.092Z"
   },
   {
    "duration": 170,
    "start_time": "2024-10-18T18:15:32.330Z"
   },
   {
    "duration": 77,
    "start_time": "2024-10-18T18:15:32.583Z"
   },
   {
    "duration": 186,
    "start_time": "2024-10-18T18:15:33.449Z"
   },
   {
    "duration": 172,
    "start_time": "2024-10-18T18:15:33.658Z"
   },
   {
    "duration": 82,
    "start_time": "2024-10-18T18:15:33.920Z"
   },
   {
    "duration": 184,
    "start_time": "2024-10-18T18:15:34.883Z"
   },
   {
    "duration": 185,
    "start_time": "2024-10-18T18:15:35.157Z"
   },
   {
    "duration": 155,
    "start_time": "2024-10-18T18:15:35.682Z"
   },
   {
    "duration": 9,
    "start_time": "2024-10-18T18:15:37.508Z"
   },
   {
    "duration": 10,
    "start_time": "2024-10-18T18:15:38.559Z"
   },
   {
    "duration": 80,
    "start_time": "2024-10-18T18:18:42.980Z"
   },
   {
    "duration": 172,
    "start_time": "2024-10-18T18:18:51.205Z"
   },
   {
    "duration": 175,
    "start_time": "2024-10-18T18:19:27.119Z"
   },
   {
    "duration": 177,
    "start_time": "2024-10-18T18:20:40.070Z"
   },
   {
    "duration": 7,
    "start_time": "2024-10-18T18:21:05.511Z"
   },
   {
    "duration": 10,
    "start_time": "2024-10-18T18:21:08.143Z"
   },
   {
    "duration": 178,
    "start_time": "2024-10-18T18:38:54.096Z"
   },
   {
    "duration": 10,
    "start_time": "2024-10-18T19:44:00.410Z"
   },
   {
    "duration": 786,
    "start_time": "2024-10-18T19:49:45.519Z"
   },
   {
    "duration": 158,
    "start_time": "2024-10-18T19:49:46.359Z"
   },
   {
    "duration": 11,
    "start_time": "2024-10-18T19:49:47.122Z"
   },
   {
    "duration": 6,
    "start_time": "2024-10-18T19:49:47.326Z"
   },
   {
    "duration": 6,
    "start_time": "2024-10-18T19:49:48.107Z"
   },
   {
    "duration": 4,
    "start_time": "2024-10-18T19:49:48.912Z"
   },
   {
    "duration": 9,
    "start_time": "2024-10-18T19:49:49.322Z"
   },
   {
    "duration": 10,
    "start_time": "2024-10-18T19:49:49.510Z"
   },
   {
    "duration": 13,
    "start_time": "2024-10-18T19:49:50.252Z"
   },
   {
    "duration": 13,
    "start_time": "2024-10-18T19:49:50.855Z"
   },
   {
    "duration": 16,
    "start_time": "2024-10-18T19:49:51.265Z"
   },
   {
    "duration": 8,
    "start_time": "2024-10-18T19:49:51.486Z"
   },
   {
    "duration": 45,
    "start_time": "2024-10-18T19:49:52.285Z"
   },
   {
    "duration": 27,
    "start_time": "2024-10-18T19:49:53.055Z"
   },
   {
    "duration": 12,
    "start_time": "2024-10-18T19:49:53.455Z"
   },
   {
    "duration": 5,
    "start_time": "2024-10-18T19:49:53.660Z"
   },
   {
    "duration": 21,
    "start_time": "2024-10-18T19:49:54.467Z"
   },
   {
    "duration": 17,
    "start_time": "2024-10-18T19:49:55.129Z"
   },
   {
    "duration": 14,
    "start_time": "2024-10-18T19:49:55.563Z"
   },
   {
    "duration": 7,
    "start_time": "2024-10-18T19:49:55.761Z"
   },
   {
    "duration": 45,
    "start_time": "2024-10-18T19:49:56.591Z"
   },
   {
    "duration": 22,
    "start_time": "2024-10-18T19:49:57.180Z"
   },
   {
    "duration": 11,
    "start_time": "2024-10-18T19:49:58.071Z"
   },
   {
    "duration": 19,
    "start_time": "2024-10-18T19:49:58.536Z"
   },
   {
    "duration": 12,
    "start_time": "2024-10-18T19:49:58.707Z"
   },
   {
    "duration": 12,
    "start_time": "2024-10-18T19:49:58.916Z"
   },
   {
    "duration": 16,
    "start_time": "2024-10-18T19:49:59.119Z"
   },
   {
    "duration": 19,
    "start_time": "2024-10-18T19:49:59.739Z"
   },
   {
    "duration": 22,
    "start_time": "2024-10-18T19:50:00.167Z"
   },
   {
    "duration": 85,
    "start_time": "2024-10-18T19:50:00.812Z"
   },
   {
    "duration": 239,
    "start_time": "2024-10-18T19:50:01.869Z"
   },
   {
    "duration": 194,
    "start_time": "2024-10-18T19:50:02.111Z"
   },
   {
    "duration": 6,
    "start_time": "2024-10-18T19:50:02.705Z"
   },
   {
    "duration": 83,
    "start_time": "2024-10-18T19:50:02.920Z"
   },
   {
    "duration": 176,
    "start_time": "2024-10-18T19:50:03.574Z"
   },
   {
    "duration": 171,
    "start_time": "2024-10-18T19:50:03.780Z"
   },
   {
    "duration": 76,
    "start_time": "2024-10-18T19:50:03.999Z"
   },
   {
    "duration": 198,
    "start_time": "2024-10-18T19:50:04.607Z"
   },
   {
    "duration": 181,
    "start_time": "2024-10-18T19:50:04.837Z"
   },
   {
    "duration": 82,
    "start_time": "2024-10-18T19:50:05.060Z"
   },
   {
    "duration": 176,
    "start_time": "2024-10-18T19:50:05.963Z"
   },
   {
    "duration": 178,
    "start_time": "2024-10-18T19:50:06.170Z"
   },
   {
    "duration": 161,
    "start_time": "2024-10-18T19:50:06.596Z"
   },
   {
    "duration": 8,
    "start_time": "2024-10-18T19:50:07.537Z"
   },
   {
    "duration": 10,
    "start_time": "2024-10-18T19:50:10.139Z"
   }
  ],
  "colab": {
   "provenance": []
  },
  "kernelspec": {
   "display_name": "Python 3",
   "language": "python",
   "name": "python3"
  },
  "language_info": {
   "codemirror_mode": {
    "name": "ipython",
    "version": 3
   },
   "file_extension": ".py",
   "mimetype": "text/x-python",
   "name": "python",
   "nbconvert_exporter": "python",
   "pygments_lexer": "ipython3",
   "version": "3.13.0"
  },
  "toc": {
   "base_numbering": 1,
   "nav_menu": {},
   "number_sections": true,
   "sideBar": true,
   "skip_h1_title": false,
   "title_cell": "Table of Contents",
   "title_sidebar": "Contents",
   "toc_cell": false,
   "toc_position": {},
   "toc_section_display": true,
   "toc_window_display": false
  }
 },
 "nbformat": 4,
 "nbformat_minor": 1
}
